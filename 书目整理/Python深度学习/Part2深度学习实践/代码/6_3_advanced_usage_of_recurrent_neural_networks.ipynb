{
  "nbformat": 4,
  "nbformat_minor": 0,
  "metadata": {
    "colab": {
      "name": "6.3-advanced-usage-of-recurrent-neural-networks.ipynb",
      "version": "0.3.2",
      "provenance": [],
      "collapsed_sections": [],
      "include_colab_link": true
    },
    "kernelspec": {
      "name": "python3",
      "display_name": "Python 3"
    },
    "accelerator": "GPU"
  },
  "cells": [
    {
      "cell_type": "markdown",
      "metadata": {
        "id": "view-in-github",
        "colab_type": "text"
      },
      "source": [
        "<a href=\"https://colab.research.google.com/github/Xw-Jia/2019_SaveYourself_GetOffer/blob/master/%E4%B9%A6%E7%9B%AE%E6%95%B4%E7%90%86/Python%E6%B7%B1%E5%BA%A6%E5%AD%A6%E4%B9%A0/Part2%E6%B7%B1%E5%BA%A6%E5%AD%A6%E4%B9%A0%E5%AE%9E%E8%B7%B5/%E4%BB%A3%E7%A0%81/6_3_advanced_usage_of_recurrent_neural_networks.ipynb\" target=\"_parent\"><img src=\"https://colab.research.google.com/assets/colab-badge.svg\" alt=\"Open In Colab\"/></a>"
      ]
    },
    {
      "cell_type": "code",
      "metadata": {
        "id": "BxsO0Q2AaSOJ",
        "colab_type": "code",
        "colab": {
          "base_uri": "https://localhost:8080/",
          "height": 34
        },
        "outputId": "bd9f0c09-cb1e-467c-833d-d0ea72712d33"
      },
      "source": [
        "!pip install numpy==1.16.2"
      ],
      "execution_count": 1,
      "outputs": [
        {
          "output_type": "stream",
          "text": [
            "Requirement already satisfied: numpy==1.16.2 in /usr/local/lib/python3.6/dist-packages (1.16.2)\n"
          ],
          "name": "stdout"
        }
      ]
    },
    {
      "cell_type": "code",
      "metadata": {
        "id": "ZTKpXKLFaggC",
        "colab_type": "code",
        "colab": {
          "base_uri": "https://localhost:8080/",
          "height": 202
        },
        "outputId": "b1cc25e7-d4bc-4635-d5f0-77642ea0a301"
      },
      "source": [
        "!wget https://s3.amazonaws.com/keras-datasets/jena_climate_2009_2016.csv.zip"
      ],
      "execution_count": 2,
      "outputs": [
        {
          "output_type": "stream",
          "text": [
            "--2019-05-05 14:35:13--  https://s3.amazonaws.com/keras-datasets/jena_climate_2009_2016.csv.zip\n",
            "Resolving s3.amazonaws.com (s3.amazonaws.com)... 52.216.84.59\n",
            "Connecting to s3.amazonaws.com (s3.amazonaws.com)|52.216.84.59|:443... connected.\n",
            "HTTP request sent, awaiting response... 200 OK\n",
            "Length: 13568290 (13M) [application/zip]\n",
            "Saving to: ‘jena_climate_2009_2016.csv.zip’\n",
            "\n",
            "\r          jena_clim   0%[                    ]       0  --.-KB/s               \rjena_climate_2009_2 100%[===================>]  12.94M  --.-KB/s    in 0.1s    \n",
            "\n",
            "2019-05-05 14:35:13 (88.2 MB/s) - ‘jena_climate_2009_2016.csv.zip’ saved [13568290/13568290]\n",
            "\n"
          ],
          "name": "stdout"
        }
      ]
    },
    {
      "cell_type": "code",
      "metadata": {
        "id": "cYSwEgxYa5f2",
        "colab_type": "code",
        "colab": {
          "base_uri": "https://localhost:8080/",
          "height": 50
        },
        "outputId": "f885aa7f-3771-4ebf-eb18-c8233afd4e6e"
      },
      "source": [
        "!unzip jena_climate_2009_2016.csv.zip"
      ],
      "execution_count": 3,
      "outputs": [
        {
          "output_type": "stream",
          "text": [
            "Archive:  jena_climate_2009_2016.csv.zip\n",
            "  inflating: jena_climate_2009_2016.csv  \n"
          ],
          "name": "stdout"
        }
      ]
    },
    {
      "cell_type": "code",
      "metadata": {
        "id": "vgz2mSVpbAmw",
        "colab_type": "code",
        "colab": {
          "base_uri": "https://localhost:8080/",
          "height": 70
        },
        "outputId": "5eabb402-5e5e-4ed1-fccf-b0b095cdc6cb"
      },
      "source": [
        "import os\n",
        "\n",
        "data_dir = '/content/'\n",
        "fname = os.path.join(data_dir, 'jena_climate_2009_2016.csv')\n",
        "\n",
        "f = open(fname)\n",
        "data = f.read()\n",
        "f.close()\n",
        "\n",
        "lines = data.split('\\n')\n",
        "header = lines[0].split(',')\n",
        "lines = lines[1:]\n",
        "\n",
        "print(header)\n",
        "print(len(lines))\n",
        "#可以知道，有420551行数据，每行是一个timestep，记录一个日期和14个天气特征"
      ],
      "execution_count": 5,
      "outputs": [
        {
          "output_type": "stream",
          "text": [
            "['\"Date Time\"', '\"p (mbar)\"', '\"T (degC)\"', '\"Tpot (K)\"', '\"Tdew (degC)\"', '\"rh (%)\"', '\"VPmax (mbar)\"', '\"VPact (mbar)\"', '\"VPdef (mbar)\"', '\"sh (g/kg)\"', '\"H2OC (mmol/mol)\"', '\"rho (g/m**3)\"', '\"wv (m/s)\"', '\"max. wv (m/s)\"', '\"wd (deg)\"']\n",
            "420551\n"
          ],
          "name": "stdout"
        }
      ]
    },
    {
      "cell_type": "code",
      "metadata": {
        "id": "pYCM-Hr2bWNU",
        "colab_type": "code",
        "colab": {}
      },
      "source": [
        "'''\n",
        "数据转换成Numpy数组\n",
        "'''\n",
        "import numpy as np\n",
        "\n",
        "float_data = np.zeros((len(lines), len(header) - 1))\n",
        "for i, line in enumerate(lines):\n",
        "    values = [float(x) for x in line.split(',')[1:]] #索引0是time\n",
        "    float_data[i, :] = values"
      ],
      "execution_count": 0,
      "outputs": []
    },
    {
      "cell_type": "code",
      "metadata": {
        "id": "KAnERbDgcGfI",
        "colab_type": "code",
        "colab": {
          "base_uri": "https://localhost:8080/",
          "height": 269
        },
        "outputId": "67d97bce-4353-48fd-def5-1b653db4e389"
      },
      "source": [
        "\n",
        "from matplotlib import pyplot as plt\n",
        "\n",
        "temp = float_data[:, 1]  # temperature (in degrees Celsius)\n",
        "plt.plot(range(len(temp)), temp)\n",
        "plt.show()\n",
        "#所有的温度数据(摄氏度)"
      ],
      "execution_count": 7,
      "outputs": [
        {
          "output_type": "display_data",
          "data": {
            "image/png": "[encoded data removed]",
            "text/plain": [
              "<Figure size 432x288 with 1 Axes>"
            ]
          },
          "metadata": {
            "tags": []
          }
        }
      ]
    },
    {
      "cell_type": "code",
      "metadata": {
        "id": "WK4vhVhxcL3g",
        "colab_type": "code",
        "colab": {
          "base_uri": "https://localhost:8080/",
          "height": 269
        },
        "outputId": "00b30229-c872-4e66-a58b-d441280d848b"
      },
      "source": [
        "#前10天的温度数据，10分钟记录一个\n",
        "plt.plot(range(1440), temp[:1440])\n",
        "plt.show()"
      ],
      "execution_count": 8,
      "outputs": [
        {
          "output_type": "display_data",
          "data": {
            "image/png": "[encoded data removed]",
            "text/plain": [
              "<Figure size 432x288 with 1 Axes>"
            ]
          },
          "metadata": {
            "tags": []
          }
        }
      ]
    },
    {
      "cell_type": "code",
      "metadata": {
        "id": "JQ1kSx1IcQG-",
        "colab_type": "code",
        "colab": {}
      },
      "source": [
        "'''\n",
        "如果按天作为观察尺度，是否可以根据前几个月的数据，预测接下来的温度？？\n",
        "\n",
        "准备数据：\n",
        "lookback = 720：给定过去5天的数据\n",
        "steps = 6： 每一小时记录一个数据点\n",
        "delay = 144 ： 目标是未来24小时之后的数据\n",
        "'''\n",
        "#1. 数据标准化，归一化，不同的特征取值范围调整\n",
        "\n",
        "mean = float_data[:200000].mean(axis=0)\n",
        "float_data -= mean\n",
        "std = float_data[:200000].std(axis=0)\n",
        "float_data /= std"
      ],
      "execution_count": 0,
      "outputs": []
    },
    {
      "cell_type": "code",
      "metadata": {
        "id": "UXclSzx4cTEj",
        "colab_type": "code",
        "colab": {}
      },
      "source": [
        "'''\n",
        "函数：当前浮点数为输入，从最近数据中生成数据batch，同时生成未来的目标数据target\n",
        "\n",
        "数据是高度冗余的，第N个样本和第N+1个样本大部分timestep相同，所有，显式保存每个样本很浪费，所以，使用原始数据及时生成样本\n",
        "'''\n",
        "def generator(data, lookback, delay, min_index, max_index,\n",
        "              shuffle=False, batch_size=128, step=6):\n",
        "    if max_index is None:\n",
        "        max_index = len(data) - delay - 1\n",
        "    i = min_index + lookback\n",
        "    while 1:\n",
        "        if shuffle:\n",
        "            rows = np.random.randint(\n",
        "                min_index + lookback, max_index, size=batch_size)\n",
        "        else:\n",
        "            if i + batch_size >= max_index:\n",
        "                i = min_index + lookback\n",
        "            rows = np.arange(i, min(i + batch_size, max_index))\n",
        "            i += len(rows)\n",
        "\n",
        "        samples = np.zeros((len(rows),\n",
        "                           lookback // step,\n",
        "                           data.shape[-1]))\n",
        "        targets = np.zeros((len(rows),))\n",
        "        for j, row in enumerate(rows):\n",
        "            indices = range(rows[j] - lookback, rows[j], step)\n",
        "            samples[j] = data[indices]\n",
        "            targets[j] = data[rows[j] + delay][1]\n",
        "        yield samples, targets   #函数变成了生成器函数，它的实例返回一个可迭代对象"
      ],
      "execution_count": 0,
      "outputs": []
    },
    {
      "cell_type": "code",
      "metadata": {
        "id": "zqWb-fBVcWIz",
        "colab_type": "code",
        "colab": {}
      },
      "source": [
        "lookback = 1440\n",
        "step = 6\n",
        "delay = 144\n",
        "batch_size = 128\n",
        "\n",
        "train_gen = generator(float_data,\n",
        "                      lookback=lookback,\n",
        "                      delay=delay,\n",
        "                      min_index=0,\n",
        "                      max_index=200000,\n",
        "                      shuffle=True,\n",
        "                      step=step, \n",
        "                      batch_size=batch_size)\n",
        "val_gen = generator(float_data,\n",
        "                    lookback=lookback,\n",
        "                    delay=delay,\n",
        "                    min_index=200001,\n",
        "                    max_index=300000,\n",
        "                    step=step,\n",
        "                    batch_size=batch_size)\n",
        "test_gen = generator(float_data,\n",
        "                     lookback=lookback,\n",
        "                     delay=delay,\n",
        "                     min_index=300001,\n",
        "                     max_index=None,\n",
        "                     step=step,\n",
        "                     batch_size=batch_size)\n",
        "\n",
        "# 生成验证集要从val_gen抽取多少次\n",
        "val_steps = (300000 - 200001 - lookback) // batch_size\n",
        "\n",
        "# This is how many steps to draw from `test_gen`\n",
        "# in order to see the whole test set:\n",
        "test_steps = (len(float_data) - 300001 - lookback) // batch_size"
      ],
      "execution_count": 0,
      "outputs": []
    },
    {
      "cell_type": "markdown",
      "metadata": {
        "id": "SIzBTzTh0YYc",
        "colab_type": "text"
      },
      "source": [
        "## 一种基于非机器学习的baseline\n",
        "：预测24小时后的温度等于目前的温度\n",
        "\n",
        "用平均绝对误差(MAE)来评估：\n",
        "\n",
        "`np.mean(np.abs(preds - targets))`\n"
      ]
    },
    {
      "cell_type": "code",
      "metadata": {
        "id": "wiQIdSJmcdY6",
        "colab_type": "code",
        "colab": {
          "base_uri": "https://localhost:8080/",
          "height": 34
        },
        "outputId": "81410990-9426-454d-c423-d9c8daf186c3"
      },
      "source": [
        "'''\n",
        "计算常识baseline的MAE\n",
        "'''\n",
        "def evaluate_naive_method():\n",
        "    batch_maes = []\n",
        "    for step in range(val_steps):\n",
        "        samples, targets = next(val_gen)\n",
        "        preds = samples[:, -1, 1]\n",
        "        mae = np.mean(np.abs(preds - targets))\n",
        "        batch_maes.append(mae)\n",
        "    print(np.mean(batch_maes))\n",
        "    \n",
        "evaluate_naive_method()"
      ],
      "execution_count": 13,
      "outputs": [
        {
          "output_type": "stream",
          "text": [
            "0.2897359729905486\n"
          ],
          "name": "stdout"
        }
      ]
    },
    {
      "cell_type": "code",
      "metadata": {
        "id": "e3Sh7hPbcqOU",
        "colab_type": "code",
        "colab": {
          "base_uri": "https://localhost:8080/",
          "height": 826
        },
        "outputId": "eb21b03a-9beb-4b83-f294-09f6a19f5ae6"
      },
      "source": [
        "'''\n",
        "改进baseline，使用一个简单的NN\n",
        "'''\n",
        "from keras.models import Sequential\n",
        "from keras import layers\n",
        "from keras.optimizers import RMSprop\n",
        "\n",
        "model = Sequential()\n",
        "model.add(layers.Flatten(input_shape=(lookback // step, float_data.shape[-1])))\n",
        "model.add(layers.Dense(32, activation='relu'))\n",
        "model.add(layers.Dense(1))\n",
        "\n",
        "model.compile(optimizer=RMSprop(), loss='mae')\n",
        "history = model.fit_generator(train_gen,\n",
        "                              steps_per_epoch=500,\n",
        "                              epochs=20,\n",
        "                              validation_data=val_gen,\n",
        "                              validation_steps=val_steps)"
      ],
      "execution_count": 14,
      "outputs": [
        {
          "output_type": "stream",
          "text": [
            "Using TensorFlow backend.\n"
          ],
          "name": "stderr"
        },
        {
          "output_type": "stream",
          "text": [
            "WARNING:tensorflow:From /usr/local/lib/python3.6/dist-packages/tensorflow/python/framework/op_def_library.py:263: colocate_with (from tensorflow.python.framework.ops) is deprecated and will be removed in a future version.\n",
            "Instructions for updating:\n",
            "Colocations handled automatically by placer.\n",
            "WARNING:tensorflow:From /usr/local/lib/python3.6/dist-packages/tensorflow/python/ops/math_ops.py:3066: to_int32 (from tensorflow.python.ops.math_ops) is deprecated and will be removed in a future version.\n",
            "Instructions for updating:\n",
            "Use tf.cast instead.\n",
            "Epoch 1/20\n",
            "500/500 [==============================] - 13s 25ms/step - loss: 1.2409 - val_loss: 0.7789\n",
            "Epoch 2/20\n",
            "500/500 [==============================] - 11s 23ms/step - loss: 0.4472 - val_loss: 0.3783\n",
            "Epoch 3/20\n",
            "500/500 [==============================] - 11s 23ms/step - loss: 0.3043 - val_loss: 0.3118\n",
            "Epoch 4/20\n",
            "500/500 [==============================] - 11s 23ms/step - loss: 0.2699 - val_loss: 0.3030\n",
            "Epoch 5/20\n",
            "500/500 [==============================] - 11s 23ms/step - loss: 0.2580 - val_loss: 0.3388\n",
            "Epoch 6/20\n",
            "500/500 [==============================] - 12s 23ms/step - loss: 0.2482 - val_loss: 0.3293\n",
            "Epoch 7/20\n",
            "500/500 [==============================] - 13s 25ms/step - loss: 0.2413 - val_loss: 0.3267\n",
            "Epoch 8/20\n",
            "500/500 [==============================] - 12s 24ms/step - loss: 0.2349 - val_loss: 0.3202\n",
            "Epoch 9/20\n",
            "500/500 [==============================] - 11s 23ms/step - loss: 0.2305 - val_loss: 0.3488\n",
            "Epoch 10/20\n",
            "500/500 [==============================] - 12s 23ms/step - loss: 0.2264 - val_loss: 0.3473\n",
            "Epoch 11/20\n",
            "500/500 [==============================] - 12s 23ms/step - loss: 0.2220 - val_loss: 0.3272\n",
            "Epoch 12/20\n",
            "500/500 [==============================] - 12s 23ms/step - loss: 0.2189 - val_loss: 0.3427\n",
            "Epoch 13/20\n",
            "500/500 [==============================] - 13s 26ms/step - loss: 0.2149 - val_loss: 0.3251\n",
            "Epoch 14/20\n",
            "500/500 [==============================] - 13s 25ms/step - loss: 0.2122 - val_loss: 0.3571\n",
            "Epoch 15/20\n",
            "500/500 [==============================] - 12s 23ms/step - loss: 0.2090 - val_loss: 0.3326\n",
            "Epoch 16/20\n",
            "500/500 [==============================] - 11s 23ms/step - loss: 0.2083 - val_loss: 0.3430\n",
            "Epoch 17/20\n",
            "500/500 [==============================] - 11s 22ms/step - loss: 0.2052 - val_loss: 0.3502\n",
            "Epoch 18/20\n",
            "500/500 [==============================] - 11s 22ms/step - loss: 0.2030 - val_loss: 0.3307\n",
            "Epoch 19/20\n",
            "500/500 [==============================] - 11s 22ms/step - loss: 0.2026 - val_loss: 0.3724\n",
            "Epoch 20/20\n",
            "500/500 [==============================] - 11s 22ms/step - loss: 0.2003 - val_loss: 0.3382\n"
          ],
          "name": "stdout"
        }
      ]
    },
    {
      "cell_type": "code",
      "metadata": {
        "id": "VjslRuwWctHC",
        "colab_type": "code",
        "colab": {
          "base_uri": "https://localhost:8080/",
          "height": 281
        },
        "outputId": "0f1f3665-0bc5-4998-a8b1-390b70df8cd6"
      },
      "source": [
        "\n",
        "import matplotlib.pyplot as plt\n",
        "\n",
        "loss = history.history['loss']\n",
        "val_loss = history.history['val_loss']\n",
        "\n",
        "epochs = range(len(loss))\n",
        "\n",
        "plt.figure()\n",
        "\n",
        "plt.plot(epochs, loss, 'bo', label='Training loss')\n",
        "plt.plot(epochs, val_loss, 'b', label='Validation loss')\n",
        "plt.title('Training and validation loss')\n",
        "plt.legend()\n",
        "\n",
        "plt.show()"
      ],
      "execution_count": 17,
      "outputs": [
        {
          "output_type": "display_data",
          "data": {
            "image/png": "[encoded data removed]",
            "text/plain": [
              "<Figure size 432x288 with 1 Axes>"
            ]
          },
          "metadata": {
            "tags": []
          }
        }
      ]
    },
    {
      "cell_type": "markdown",
      "metadata": {
        "id": "XL9-yeCw4Scv",
        "colab_type": "text"
      },
      "source": [
        "发现验证损失甚至不能超过baseline的mae，所以学习效果不好"
      ]
    },
    {
      "cell_type": "code",
      "metadata": {
        "id": "niBAw6bdc47G",
        "colab_type": "code",
        "colab": {
          "base_uri": "https://localhost:8080/",
          "height": 689
        },
        "outputId": "9f75a19d-8512-4f15-fb2c-1b263697e8e9"
      },
      "source": [
        "'''\n",
        "上一个Dense的方法，首先把时间序列展平，丢弃了时间的概念\n",
        "尝试使用RNN--GRU\n",
        "'''\n",
        "from keras.models import Sequential\n",
        "from keras import layers\n",
        "from keras.optimizers import RMSprop\n",
        "\n",
        "model = Sequential()\n",
        "model.add(layers.GRU(32, input_shape=(None, float_data.shape[-1])))\n",
        "model.add(layers.Dense(1))\n",
        "\n",
        "model.compile(optimizer=RMSprop(), loss='mae')\n",
        "history = model.fit_generator(train_gen,\n",
        "                              steps_per_epoch=500,\n",
        "                              epochs=20,\n",
        "                              validation_data=val_gen,\n",
        "                              validation_steps=val_steps)"
      ],
      "execution_count": 16,
      "outputs": [
        {
          "output_type": "stream",
          "text": [
            "Epoch 1/20\n",
            "500/500 [==============================] - 171s 341ms/step - loss: 0.2986 - val_loss: 0.2719\n",
            "Epoch 2/20\n",
            "500/500 [==============================] - 173s 345ms/step - loss: 0.2846 - val_loss: 0.2689\n",
            "Epoch 3/20\n",
            "500/500 [==============================] - 172s 344ms/step - loss: 0.2800 - val_loss: 0.2648\n",
            "Epoch 4/20\n",
            "500/500 [==============================] - 175s 349ms/step - loss: 0.2760 - val_loss: 0.2658\n",
            "Epoch 5/20\n",
            "500/500 [==============================] - 175s 349ms/step - loss: 0.2702 - val_loss: 0.2653\n",
            "Epoch 6/20\n",
            "500/500 [==============================] - 174s 348ms/step - loss: 0.2662 - val_loss: 0.2658\n",
            "Epoch 7/20\n",
            "500/500 [==============================] - 175s 350ms/step - loss: 0.2612 - val_loss: 0.2678\n",
            "Epoch 8/20\n",
            "500/500 [==============================] - 173s 347ms/step - loss: 0.2556 - val_loss: 0.2658\n",
            "Epoch 9/20\n",
            "500/500 [==============================] - 175s 350ms/step - loss: 0.2508 - val_loss: 0.2776\n",
            "Epoch 10/20\n",
            "500/500 [==============================] - 173s 346ms/step - loss: 0.2481 - val_loss: 0.2747\n",
            "Epoch 11/20\n",
            "500/500 [==============================] - 174s 348ms/step - loss: 0.2413 - val_loss: 0.2810\n",
            "Epoch 12/20\n",
            "500/500 [==============================] - 175s 350ms/step - loss: 0.2376 - val_loss: 0.2856\n",
            "Epoch 13/20\n",
            "500/500 [==============================] - 172s 345ms/step - loss: 0.2347 - val_loss: 0.2855\n",
            "Epoch 14/20\n",
            "500/500 [==============================] - 171s 342ms/step - loss: 0.2290 - val_loss: 0.2940\n",
            "Epoch 15/20\n",
            "500/500 [==============================] - 174s 347ms/step - loss: 0.2252 - val_loss: 0.3010\n",
            "Epoch 16/20\n",
            "500/500 [==============================] - 175s 351ms/step - loss: 0.2196 - val_loss: 0.2979\n",
            "Epoch 17/20\n",
            "500/500 [==============================] - 173s 345ms/step - loss: 0.2166 - val_loss: 0.3096\n",
            "Epoch 18/20\n",
            "500/500 [==============================] - 172s 344ms/step - loss: 0.2116 - val_loss: 0.3209\n",
            "Epoch 19/20\n",
            "500/500 [==============================] - 171s 341ms/step - loss: 0.2071 - val_loss: 0.3178\n",
            "Epoch 20/20\n",
            "500/500 [==============================] - 174s 347ms/step - loss: 0.2053 - val_loss: 0.3194\n"
          ],
          "name": "stdout"
        }
      ]
    },
    {
      "cell_type": "code",
      "metadata": {
        "id": "_k_acnYpc6J2",
        "colab_type": "code",
        "colab": {
          "base_uri": "https://localhost:8080/",
          "height": 281
        },
        "outputId": "b9a5a7d2-8a97-46dd-881d-68ff996fc791"
      },
      "source": [
        "#画图\n",
        "loss = history.history['loss']\n",
        "val_loss = history.history['val_loss']\n",
        "\n",
        "epochs = range(len(loss))\n",
        "\n",
        "plt.figure()\n",
        "\n",
        "plt.plot(epochs, loss, 'bo', label='Training loss')\n",
        "plt.plot(epochs, val_loss, 'b', label='Validation loss')\n",
        "plt.title('Training and validation loss')\n",
        "plt.legend()\n",
        "\n",
        "plt.show()"
      ],
      "execution_count": 18,
      "outputs": [
        {
          "output_type": "display_data",
          "data": {
            "image/png": "[encoded data removed]",
            "text/plain": [
              "<Figure size 432x288 with 1 Axes>"
            ]
          },
          "metadata": {
            "tags": []
          }
        }
      ]
    },
    {
      "cell_type": "code",
      "metadata": {
        "id": "L7Epu6nUc9jl",
        "colab_type": "code",
        "colab": {
          "base_uri": "https://localhost:8080/",
          "height": 1431
        },
        "outputId": "603ac1e3-e4e8-414a-c7be-fe60a81850cd"
      },
      "source": [
        "'''\n",
        "使用循环Dropout降低过拟合\n",
        "在循环层前面加Dropout，妨碍学习，没有帮助\n",
        "RNN中使用Dropout的方法：对每个timestep使用相同的Dropout mask(相同模式的舍弃单元)，不让dropout mask随时间步变化随机变化\n",
        "另外，为了对LSTM/GRU等循环层得到的表示做正则化，应该将不随时间变化的dropout mask应用在层的内部循环激活\n",
        "Keras RNN--Dropout有两个参数，dropout和recurrent_dropout\n",
        "'''\n",
        "from keras.models import Sequential\n",
        "from keras import layers\n",
        "from keras.optimizers import RMSprop\n",
        "\n",
        "model = Sequential()\n",
        "model.add(layers.GRU(32,\n",
        "                     dropout=0.2,\n",
        "                     recurrent_dropout=0.2,\n",
        "                     input_shape=(None, float_data.shape[-1])))\n",
        "model.add(layers.Dense(1))\n",
        "\n",
        "model.compile(optimizer=RMSprop(), loss='mae')\n",
        "history = model.fit_generator(train_gen,\n",
        "                              steps_per_epoch=500,\n",
        "                              epochs=40,\n",
        "                              validation_data=val_gen,\n",
        "                              validation_steps=val_steps)"
      ],
      "execution_count": 19,
      "outputs": [
        {
          "output_type": "stream",
          "text": [
            "WARNING:tensorflow:From /usr/local/lib/python3.6/dist-packages/keras/backend/tensorflow_backend.py:3445: calling dropout (from tensorflow.python.ops.nn_ops) with keep_prob is deprecated and will be removed in a future version.\n",
            "Instructions for updating:\n",
            "Please use `rate` instead of `keep_prob`. Rate should be set to `rate = 1 - keep_prob`.\n",
            "Epoch 1/40\n",
            "500/500 [==============================] - 199s 399ms/step - loss: 0.3390 - val_loss: 0.2817\n",
            "Epoch 2/40\n",
            "500/500 [==============================] - 199s 397ms/step - loss: 0.3150 - val_loss: 0.2740\n",
            "Epoch 3/40\n",
            "500/500 [==============================] - 199s 398ms/step - loss: 0.3080 - val_loss: 0.2779\n",
            "Epoch 4/40\n",
            "500/500 [==============================] - 201s 402ms/step - loss: 0.3040 - val_loss: 0.2687\n",
            "Epoch 5/40\n",
            "500/500 [==============================] - 198s 397ms/step - loss: 0.2990 - val_loss: 0.2692\n",
            "Epoch 6/40\n",
            "500/500 [==============================] - 202s 404ms/step - loss: 0.2969 - val_loss: 0.2676\n",
            "Epoch 7/40\n",
            "500/500 [==============================] - 198s 395ms/step - loss: 0.2935 - val_loss: 0.2692\n",
            "Epoch 8/40\n",
            "500/500 [==============================] - 199s 398ms/step - loss: 0.2931 - val_loss: 0.2653\n",
            "Epoch 9/40\n",
            "500/500 [==============================] - 200s 400ms/step - loss: 0.2914 - val_loss: 0.2651\n",
            "Epoch 10/40\n",
            "500/500 [==============================] - 199s 398ms/step - loss: 0.2894 - val_loss: 0.2637\n",
            "Epoch 11/40\n",
            "500/500 [==============================] - 200s 400ms/step - loss: 0.2887 - val_loss: 0.2662\n",
            "Epoch 12/40\n",
            "500/500 [==============================] - 200s 401ms/step - loss: 0.2880 - val_loss: 0.2648\n",
            "Epoch 13/40\n",
            "500/500 [==============================] - 195s 389ms/step - loss: 0.2867 - val_loss: 0.2621\n",
            "Epoch 14/40\n",
            "500/500 [==============================] - 199s 398ms/step - loss: 0.2842 - val_loss: 0.2650\n",
            "Epoch 15/40\n",
            "500/500 [==============================] - 199s 398ms/step - loss: 0.2847 - val_loss: 0.2624\n",
            "Epoch 16/40\n",
            "500/500 [==============================] - 199s 397ms/step - loss: 0.2844 - val_loss: 0.2670\n",
            "Epoch 17/40\n",
            "500/500 [==============================] - 199s 398ms/step - loss: 0.2815 - val_loss: 0.2686\n",
            "Epoch 18/40\n",
            "500/500 [==============================] - 200s 399ms/step - loss: 0.2822 - val_loss: 0.2733\n",
            "Epoch 19/40\n",
            "500/500 [==============================] - 198s 396ms/step - loss: 0.2815 - val_loss: 0.2680\n",
            "Epoch 20/40\n",
            "500/500 [==============================] - 200s 400ms/step - loss: 0.2806 - val_loss: 0.2684\n",
            "Epoch 21/40\n",
            "500/500 [==============================] - 201s 401ms/step - loss: 0.2779 - val_loss: 0.2653\n",
            "Epoch 22/40\n",
            "500/500 [==============================] - 198s 397ms/step - loss: 0.2781 - val_loss: 0.2711\n",
            "Epoch 23/40\n",
            "500/500 [==============================] - 201s 401ms/step - loss: 0.2779 - val_loss: 0.2672\n",
            "Epoch 24/40\n",
            "500/500 [==============================] - 198s 396ms/step - loss: 0.2769 - val_loss: 0.2686\n",
            "Epoch 25/40\n",
            "500/500 [==============================] - 200s 399ms/step - loss: 0.2754 - val_loss: 0.2754\n",
            "Epoch 26/40\n",
            "500/500 [==============================] - 200s 400ms/step - loss: 0.2754 - val_loss: 0.2764\n",
            "Epoch 27/40\n",
            "500/500 [==============================] - 199s 398ms/step - loss: 0.2745 - val_loss: 0.2738\n",
            "Epoch 28/40\n",
            "500/500 [==============================] - 200s 399ms/step - loss: 0.2744 - val_loss: 0.2704\n",
            "Epoch 29/40\n",
            "500/500 [==============================] - 201s 402ms/step - loss: 0.2730 - val_loss: 0.2710\n",
            "Epoch 30/40\n",
            "500/500 [==============================] - 198s 396ms/step - loss: 0.2729 - val_loss: 0.2723\n",
            "Epoch 31/40\n",
            "500/500 [==============================] - 202s 403ms/step - loss: 0.2726 - val_loss: 0.2723\n",
            "Epoch 32/40\n",
            "500/500 [==============================] - 200s 400ms/step - loss: 0.2699 - val_loss: 0.2721\n",
            "Epoch 33/40\n",
            "500/500 [==============================] - 199s 398ms/step - loss: 0.2705 - val_loss: 0.2709\n",
            "Epoch 34/40\n",
            "500/500 [==============================] - 200s 400ms/step - loss: 0.2706 - val_loss: 0.2692\n",
            "Epoch 35/40\n",
            "500/500 [==============================] - 202s 403ms/step - loss: 0.2718 - val_loss: 0.2675\n",
            "Epoch 36/40\n",
            "500/500 [==============================] - 198s 396ms/step - loss: 0.2709 - val_loss: 0.2724\n",
            "Epoch 37/40\n",
            "500/500 [==============================] - 201s 402ms/step - loss: 0.2704 - val_loss: 0.2699\n",
            "Epoch 38/40\n",
            "500/500 [==============================] - 197s 393ms/step - loss: 0.2708 - val_loss: 0.2684\n",
            "Epoch 39/40\n",
            "500/500 [==============================] - 199s 399ms/step - loss: 0.2696 - val_loss: 0.2681\n",
            "Epoch 40/40\n",
            "500/500 [==============================] - 198s 396ms/step - loss: 0.2680 - val_loss: 0.2674\n"
          ],
          "name": "stdout"
        }
      ]
    },
    {
      "cell_type": "code",
      "metadata": {
        "id": "4OxkV6eLdA3c",
        "colab_type": "code",
        "colab": {
          "base_uri": "https://localhost:8080/",
          "height": 281
        },
        "outputId": "86dba212-438f-4fdf-e6a4-3d109403a2a6"
      },
      "source": [
        "loss = history.history['loss']\n",
        "val_loss = history.history['val_loss']\n",
        "\n",
        "epochs = range(len(loss))\n",
        "\n",
        "plt.figure()\n",
        "\n",
        "plt.plot(epochs, loss, 'bo', label='Training loss')\n",
        "plt.plot(epochs, val_loss, 'b', label='Validation loss')\n",
        "plt.title('Training and validation loss')\n",
        "plt.legend()\n",
        "\n",
        "plt.show()"
      ],
      "execution_count": 20,
      "outputs": [
        {
          "output_type": "display_data",
          "data": {
            "image/png": "[encoded data removed]",
            "text/plain": [
              "<Figure size 432x288 with 1 Axes>"
            ]
          },
          "metadata": {
            "tags": []
          }
        }
      ]
    },
    {
      "cell_type": "code",
      "metadata": {
        "id": "XtxTUP7QdEnv",
        "colab_type": "code",
        "colab": {
          "base_uri": "https://localhost:8080/",
          "height": 689
        },
        "outputId": "bb602b87-a0be-44de-fb30-863a523dfcbd"
      },
      "source": [
        "'''\n",
        "循环层堆叠，增加深度\n",
        "注意，中间的循环层要输出所有的隐向量，return_sequences=True\n",
        "还有，为什么第一个GRU可以不用激活函数？？---> RNN没有指定的话，是tanh，Relu容易使神经元坏死，\n",
        "当层数增多，学习率降低时，可以人为指定其他激活函数\n",
        "'''\n",
        "from keras.models import Sequential\n",
        "from keras import layers\n",
        "from keras.optimizers import RMSprop\n",
        "\n",
        "model = Sequential()\n",
        "model.add(layers.GRU(32,\n",
        "                     dropout=0.1,\n",
        "                     recurrent_dropout=0.5,\n",
        "                     return_sequences=True,\n",
        "                     input_shape=(None, float_data.shape[-1])))\n",
        "model.add(layers.GRU(64, activation='relu',\n",
        "                     dropout=0.1, \n",
        "                     recurrent_dropout=0.5))\n",
        "model.add(layers.Dense(1))\n",
        "\n",
        "model.compile(optimizer=RMSprop(), loss='mae')\n",
        "history = model.fit_generator(train_gen,\n",
        "                              steps_per_epoch=500,\n",
        "                              epochs=20,\n",
        "                              validation_data=val_gen,\n",
        "                              validation_steps=val_steps)"
      ],
      "execution_count": 21,
      "outputs": [
        {
          "output_type": "stream",
          "text": [
            "Epoch 1/20\n",
            "500/500 [==============================] - 388s 776ms/step - loss: 0.3365 - val_loss: 0.2813\n",
            "Epoch 2/20\n",
            "500/500 [==============================] - 382s 763ms/step - loss: 0.3129 - val_loss: 0.2712\n",
            "Epoch 3/20\n",
            "500/500 [==============================] - 380s 761ms/step - loss: 0.3059 - val_loss: 0.2699\n",
            "Epoch 4/20\n",
            "500/500 [==============================] - 381s 763ms/step - loss: 0.3018 - val_loss: 0.2708\n",
            "Epoch 5/20\n",
            "500/500 [==============================] - 379s 757ms/step - loss: 0.2985 - val_loss: 0.2688\n",
            "Epoch 6/20\n",
            "500/500 [==============================] - 375s 750ms/step - loss: 0.2961 - val_loss: 0.2686\n",
            "Epoch 7/20\n",
            "500/500 [==============================] - 378s 756ms/step - loss: 0.2918 - val_loss: 0.2670\n",
            "Epoch 8/20\n",
            "500/500 [==============================] - 377s 754ms/step - loss: 0.2912 - val_loss: 0.2708\n",
            "Epoch 9/20\n",
            "500/500 [==============================] - 377s 753ms/step - loss: 0.2906 - val_loss: 0.2777\n",
            "Epoch 10/20\n",
            "500/500 [==============================] - 375s 751ms/step - loss: 0.2865 - val_loss: 0.2678\n",
            "Epoch 11/20\n",
            "500/500 [==============================] - 377s 753ms/step - loss: 0.2872 - val_loss: 0.2673\n",
            "Epoch 12/20\n",
            "500/500 [==============================] - 373s 747ms/step - loss: 0.2836 - val_loss: 0.2707\n",
            "Epoch 13/20\n",
            "500/500 [==============================] - 375s 751ms/step - loss: 0.2810 - val_loss: 0.2714\n",
            "Epoch 14/20\n",
            "500/500 [==============================] - 376s 752ms/step - loss: 0.2805 - val_loss: 0.2698\n",
            "Epoch 15/20\n",
            "500/500 [==============================] - 375s 749ms/step - loss: 0.2778 - val_loss: 0.2702\n",
            "Epoch 16/20\n",
            "500/500 [==============================] - 375s 750ms/step - loss: 0.2769 - val_loss: 0.2728\n",
            "Epoch 17/20\n",
            "500/500 [==============================] - 374s 748ms/step - loss: 0.2728 - val_loss: 0.2714\n",
            "Epoch 18/20\n",
            "500/500 [==============================] - 369s 738ms/step - loss: 0.2736 - val_loss: 0.2729\n",
            "Epoch 19/20\n",
            "500/500 [==============================] - 372s 745ms/step - loss: 0.2726 - val_loss: 0.2700\n",
            "Epoch 20/20\n",
            "500/500 [==============================] - 375s 750ms/step - loss: 0.2698 - val_loss: 0.2710\n"
          ],
          "name": "stdout"
        }
      ]
    },
    {
      "cell_type": "code",
      "metadata": {
        "id": "QbpX5ok5dIVm",
        "colab_type": "code",
        "colab": {
          "base_uri": "https://localhost:8080/",
          "height": 281
        },
        "outputId": "11d1e922-f9b0-4a71-af44-76f17dee8a88"
      },
      "source": [
        "loss = history.history['loss']\n",
        "val_loss = history.history['val_loss']\n",
        "\n",
        "epochs = range(len(loss))\n",
        "\n",
        "plt.figure()\n",
        "\n",
        "plt.plot(epochs, loss, 'bo', label='Training loss')\n",
        "plt.plot(epochs, val_loss, 'b', label='Validation loss')\n",
        "plt.title('Training and validation loss')\n",
        "plt.legend()\n",
        "\n",
        "plt.show()"
      ],
      "execution_count": 22,
      "outputs": [
        {
          "output_type": "display_data",
          "data": {
            "image/png": "[encoded data removed]",
            "text/plain": [
              "<Figure size 432x288 with 1 Axes>"
            ]
          },
          "metadata": {
            "tags": []
          }
        }
      ]
    },
    {
      "cell_type": "markdown",
      "metadata": {
        "id": "98fO5Z2abC0N",
        "colab_type": "text"
      },
      "source": [
        "从结果看，增加了这个循环层，改进并不明显，但是过拟合仍然不是很严重：\n",
        "1. 增加每层大小试试\n",
        "2. 说明提高网络能力的回报在减小，也就是性价比降低了"
      ]
    },
    {
      "cell_type": "code",
      "metadata": {
        "id": "Qnc8AtrGdLvW",
        "colab_type": "code",
        "colab": {}
      },
      "source": [
        "'''\n",
        "使用双向RNN\n",
        "\n",
        "函数: 数据生成器的变体，将输入序列沿时间维度反转\n",
        "'''\n",
        "def reverse_order_generator(data, lookback, delay, min_index, max_index,\n",
        "                            shuffle=False, batch_size=128, step=6):\n",
        "    if max_index is None:\n",
        "        max_index = len(data) - delay - 1\n",
        "    i = min_index + lookback\n",
        "    while 1:\n",
        "        if shuffle:\n",
        "            rows = np.random.randint(\n",
        "                min_index + lookback, max_index, size=batch_size)\n",
        "        else:\n",
        "            if i + batch_size >= max_index:\n",
        "                i = min_index + lookback\n",
        "            rows = np.arange(i, min(i + batch_size, max_index))\n",
        "            i += len(rows)\n",
        "\n",
        "        samples = np.zeros((len(rows),\n",
        "                           lookback // step,\n",
        "                           data.shape[-1]))\n",
        "        targets = np.zeros((len(rows),))\n",
        "        for j, row in enumerate(rows):\n",
        "            indices = range(rows[j] - lookback, rows[j], step)\n",
        "            samples[j] = data[indices]\n",
        "            targets[j] = data[rows[j] + delay][1]\n",
        "        yield samples[:, ::-1, :], targets\n",
        "        \n",
        "train_gen_reverse = reverse_order_generator(\n",
        "    float_data,\n",
        "    lookback=lookback,\n",
        "    delay=delay,\n",
        "    min_index=0,\n",
        "    max_index=200000,\n",
        "    shuffle=True,\n",
        "    step=step, \n",
        "    batch_size=batch_size)\n",
        "val_gen_reverse = reverse_order_generator(\n",
        "    float_data,\n",
        "    lookback=lookback,\n",
        "    delay=delay,\n",
        "    min_index=200001,\n",
        "    max_index=300000,\n",
        "    step=step,\n",
        "    batch_size=batch_size)"
      ],
      "execution_count": 0,
      "outputs": []
    },
    {
      "cell_type": "code",
      "metadata": {
        "id": "LsIM_f7tdPsg",
        "colab_type": "code",
        "colab": {}
      },
      "source": [
        "'''\n",
        "天气数据反向喂入GRU，效果不如正向\n",
        "'''\n",
        "model = Sequential()\n",
        "model.add(layers.GRU(32, input_shape=(None, float_data.shape[-1])))\n",
        "model.add(layers.Dense(1))\n",
        "\n",
        "model.compile(optimizer=RMSprop(), loss='mae')\n",
        "history = model.fit_generator(train_gen_reverse,\n",
        "                              steps_per_epoch=500,\n",
        "                              epochs=20,\n",
        "                              validation_data=val_gen_reverse,\n",
        "                              validation_steps=val_steps)"
      ],
      "execution_count": 0,
      "outputs": []
    },
    {
      "cell_type": "code",
      "metadata": {
        "id": "f5xD9lvDdR-x",
        "colab_type": "code",
        "colab": {}
      },
      "source": [
        "\n",
        "loss = history.history['loss']\n",
        "val_loss = history.history['val_loss']\n",
        "\n",
        "epochs = range(len(loss))\n",
        "\n",
        "plt.figure()\n",
        "\n",
        "plt.plot(epochs, loss, 'bo', label='Training loss')\n",
        "plt.plot(epochs, val_loss, 'b', label='Validation loss')\n",
        "plt.title('Training and validation loss')\n",
        "plt.legend()\n",
        "\n",
        "plt.show()"
      ],
      "execution_count": 0,
      "outputs": []
    },
    {
      "cell_type": "code",
      "metadata": {
        "id": "RpHp0xTodUfj",
        "colab_type": "code",
        "colab": {}
      },
      "source": [
        "'''\n",
        "IMDB数据反向，喂入LSTM，发现和正向效果差不多\n",
        "'''\n",
        "from keras.datasets import imdb\n",
        "from keras.preprocessing import sequence\n",
        "from keras import layers\n",
        "from keras.models import Sequential\n",
        "\n",
        "# Number of words to consider as features\n",
        "max_features = 10000\n",
        "# Cut texts after this number of words (among top max_features most common words)\n",
        "maxlen = 500\n",
        "\n",
        "# Load data\n",
        "(x_train, y_train), (x_test, y_test) = imdb.load_data(num_words=max_features)\n",
        "\n",
        "# Reverse sequences\n",
        "x_train = [x[::-1] for x in x_train]\n",
        "x_test = [x[::-1] for x in x_test]\n",
        "\n",
        "# Pad sequences\n",
        "x_train = sequence.pad_sequences(x_train, maxlen=maxlen)\n",
        "x_test = sequence.pad_sequences(x_test, maxlen=maxlen)\n",
        "\n",
        "model = Sequential()\n",
        "model.add(layers.Embedding(max_features, 128))\n",
        "model.add(layers.LSTM(32))\n",
        "model.add(layers.Dense(1, activation='sigmoid'))\n",
        "\n",
        "model.compile(optimizer='rmsprop',\n",
        "              loss='binary_crossentropy',\n",
        "              metrics=['acc'])\n",
        "history = model.fit(x_train, y_train,\n",
        "                    epochs=10,\n",
        "                    batch_size=128,\n",
        "                    validation_split=0.2)"
      ],
      "execution_count": 0,
      "outputs": []
    },
    {
      "cell_type": "code",
      "metadata": {
        "id": "HTBisX5VdYi3",
        "colab_type": "code",
        "colab": {}
      },
      "source": [
        "\n",
        "from keras import backend as K\n",
        "K.clear_session()"
      ],
      "execution_count": 0,
      "outputs": []
    },
    {
      "cell_type": "code",
      "metadata": {
        "id": "dlyMP39ZddVn",
        "colab_type": "code",
        "colab": {}
      },
      "source": [
        "'''\n",
        "IMDB\n",
        "训练一个bi-RNN\n",
        "需要layers.Bidirectional(layers.LSTM(32))\n",
        "'''\n",
        "model = Sequential()\n",
        "model.add(layers.Embedding(max_features, 32))\n",
        "model.add(layers.Bidirectional(layers.LSTM(32)))\n",
        "model.add(layers.Dense(1, activation='sigmoid'))\n",
        "\n",
        "model.compile(optimizer='rmsprop', loss='binary_crossentropy', metrics=['acc'])\n",
        "history = model.fit(x_train, y_train, epochs=10, batch_size=128, validation_split=0.2)"
      ],
      "execution_count": 0,
      "outputs": []
    },
    {
      "cell_type": "code",
      "metadata": {
        "id": "IEmQEJRmdf1B",
        "colab_type": "code",
        "colab": {}
      },
      "source": [
        "'''\n",
        "天气数据\n",
        "训练Bi-GRU\n",
        "'''\n",
        "from keras.models import Sequential\n",
        "from keras import layers\n",
        "from keras.optimizers import RMSprop\n",
        "\n",
        "model = Sequential()\n",
        "model.add(layers.Bidirectional(\n",
        "    layers.GRU(32), input_shape=(None, float_data.shape[-1])))\n",
        "model.add(layers.Dense(1))\n",
        "\n",
        "model.compile(optimizer=RMSprop(), loss='mae')\n",
        "history = model.fit_generator(train_gen,\n",
        "                              steps_per_epoch=500,\n",
        "                              epochs=40,\n",
        "                              validation_data=val_gen,\n",
        "                              validation_steps=val_steps)"
      ],
      "execution_count": 0,
      "outputs": []
    },
    {
      "cell_type": "markdown",
      "metadata": {
        "id": "AIyRMEpMgmJn",
        "colab_type": "text"
      },
      "source": [
        "对于天气数据，强烈依赖于正向顺序，双向的结果和正向的结果差不多，信息只存在于正向所学习到的内容；\n",
        "\n",
        "另外的调参方法：\n",
        "\n",
        "\n",
        "1.   优化每个堆叠层的单元的个数\n",
        "2.   调节RMSprop的学习率\n",
        "3.   LSTM代替GRU\n",
        "4.   RNN后面加更大的Dense层，或者多个Dense层\n",
        "\n",
        "\n"
      ]
    },
    {
      "cell_type": "markdown",
      "metadata": {
        "id": "daSwMrQPjafV",
        "colab_type": "text"
      },
      "source": [
        "另外两个对NLP有用的概念：\n",
        "\n",
        "\n",
        "1.   循环注意(recurrent attention)\n",
        "2.   序列掩码(sequence masking)\n",
        "\n"
      ]
    },
    {
      "cell_type": "markdown",
      "metadata": {
        "id": "OFPUpnA53t_b",
        "colab_type": "text"
      },
      "source": [
        "重新回顾RNN Dropout mask：\n",
        "\n",
        "\n",
        "1.   St在每个时间进行相同的mask，而基础的Dropout在循环层是没有舍弃的，支队输入和输出进行舍弃，但是舍弃也是随机的\n",
        "2.   RNN的Dropout每个时间会舍弃相同的单元，包括输入、输出、和循环\n",
        "3.   含义：基于词的dropout对应于从句子中舍弃词，迫使模型不依赖于单个词完成任务\n",
        "\n"
      ]
    },
    {
      "cell_type": "code",
      "metadata": {
        "id": "_iuMZpI3diqR",
        "colab_type": "code",
        "colab": {}
      },
      "source": [
        ""
      ],
      "execution_count": 0,
      "outputs": []
    }
  ]
}