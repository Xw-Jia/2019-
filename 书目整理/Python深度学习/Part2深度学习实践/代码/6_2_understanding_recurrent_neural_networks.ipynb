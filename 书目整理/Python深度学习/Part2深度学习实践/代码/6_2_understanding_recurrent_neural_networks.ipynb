{
  "nbformat": 4,
  "nbformat_minor": 0,
  "metadata": {
    "colab": {
      "name": "6.2-understanding-recurrent-neural-networks.ipynb",
      "version": "0.3.2",
      "provenance": [],
      "collapsed_sections": [],
      "include_colab_link": true
    },
    "kernelspec": {
      "name": "python3",
      "display_name": "Python 3"
    },
    "accelerator": "GPU"
  },
  "cells": [
    {
      "cell_type": "markdown",
      "metadata": {
        "id": "view-in-github",
        "colab_type": "text"
      },
      "source": [
        "<a href=\"https://colab.research.google.com/github/Xw-Jia/2019_SaveYourself_GetOffer/blob/master/%E4%B9%A6%E7%9B%AE%E6%95%B4%E7%90%86/Python%E6%B7%B1%E5%BA%A6%E5%AD%A6%E4%B9%A0/Part2%E6%B7%B1%E5%BA%A6%E5%AD%A6%E4%B9%A0%E5%AE%9E%E8%B7%B5/%E4%BB%A3%E7%A0%81/6_2_understanding_recurrent_neural_networks.ipynb\" target=\"_parent\"><img src=\"https://colab.research.google.com/assets/colab-badge.svg\" alt=\"Open In Colab\"/></a>"
      ]
    },
    {
      "cell_type": "code",
      "metadata": {
        "id": "9ankw0bt2vR2",
        "colab_type": "code",
        "colab": {
          "base_uri": "https://localhost:8080/",
          "height": 34
        },
        "outputId": "96c21c88-b1f0-4909-b52f-d2b1496f066c"
      },
      "source": [
        "!pip install numpy==1.16.2"
      ],
      "execution_count": 1,
      "outputs": [
        {
          "output_type": "stream",
          "text": [
            "Requirement already satisfied: numpy==1.16.2 in /usr/local/lib/python3.6/dist-packages (1.16.2)\n"
          ],
          "name": "stdout"
        }
      ]
    },
    {
      "cell_type": "code",
      "metadata": {
        "id": "jdqWjrfa3BRG",
        "colab_type": "code",
        "colab": {
          "base_uri": "https://localhost:8080/",
          "height": 50
        },
        "outputId": "c4aa96ad-d0e1-4b7d-c21d-7034093578d1"
      },
      "source": [
        "import keras\n",
        "keras.__version__"
      ],
      "execution_count": 2,
      "outputs": [
        {
          "output_type": "stream",
          "text": [
            "Using TensorFlow backend.\n"
          ],
          "name": "stderr"
        },
        {
          "output_type": "execute_result",
          "data": {
            "text/plain": [
              "'2.2.4'"
            ]
          },
          "metadata": {
            "tags": []
          },
          "execution_count": 2
        }
      ]
    },
    {
      "cell_type": "code",
      "metadata": {
        "id": "bRNWOE2DKj-U",
        "colab_type": "code",
        "colab": {
          "base_uri": "https://localhost:8080/",
          "height": 118
        },
        "outputId": "31d0b20e-549a-40c4-ec80-8603215c2a3f"
      },
      "source": [
        "'''\n",
        "准备IMDB数据\n",
        "'''\n",
        "from keras.datasets import imdb\n",
        "from keras.preprocessing import sequence\n",
        "\n",
        "max_features = 10000  # 作为特征的单词数\n",
        "maxlen = 500  # 最大序列长度\n",
        "batch_size = 32\n",
        "\n",
        "print('Loading data...')\n",
        "(input_train, y_train), (input_test, y_test) = imdb.load_data(num_words=max_features)\n",
        "print(len(input_train), 'train sequences')\n",
        "print(len(input_test), 'test sequences')\n",
        "\n",
        "print('Pad sequences (samples x time)')\n",
        "input_train = sequence.pad_sequences(input_train, maxlen=maxlen)\n",
        "input_test = sequence.pad_sequences(input_test, maxlen=maxlen)\n",
        "print('input_train shape:', input_train.shape)\n",
        "print('input_test shape:', input_test.shape)"
      ],
      "execution_count": 3,
      "outputs": [
        {
          "output_type": "stream",
          "text": [
            "Loading data...\n",
            "25000 train sequences\n",
            "25000 test sequences\n",
            "Pad sequences (samples x time)\n",
            "input_train shape: (25000, 500)\n",
            "input_test shape: (25000, 500)\n"
          ],
          "name": "stdout"
        }
      ]
    },
    {
      "cell_type": "code",
      "metadata": {
        "id": "2BLzZcvIKz6H",
        "colab_type": "code",
        "colab": {
          "base_uri": "https://localhost:8080/",
          "height": 490
        },
        "outputId": "c89eed61-ed2d-4e0d-a983-d6e2eab7db2a"
      },
      "source": [
        "'''\n",
        "构建RNN模型并训练\n",
        "'''\n",
        "from keras.layers import Dense\n",
        "from keras.models import Sequential\n",
        "from keras.layers import Embedding, SimpleRNN\n",
        "\n",
        "model = Sequential()\n",
        "model.add(Embedding(max_features, 32))\n",
        "model.add(SimpleRNN(32))\n",
        "model.add(Dense(1, activation='sigmoid'))\n",
        "\n",
        "model.compile(optimizer='rmsprop', loss='binary_crossentropy', metrics=['acc'])\n",
        "history = model.fit(input_train, y_train,\n",
        "                    epochs=10,\n",
        "                    batch_size=128,\n",
        "                    validation_split=0.2)"
      ],
      "execution_count": 4,
      "outputs": [
        {
          "output_type": "stream",
          "text": [
            "WARNING:tensorflow:From /usr/local/lib/python3.6/dist-packages/tensorflow/python/framework/op_def_library.py:263: colocate_with (from tensorflow.python.framework.ops) is deprecated and will be removed in a future version.\n",
            "Instructions for updating:\n",
            "Colocations handled automatically by placer.\n",
            "WARNING:tensorflow:From /usr/local/lib/python3.6/dist-packages/tensorflow/python/ops/math_ops.py:3066: to_int32 (from tensorflow.python.ops.math_ops) is deprecated and will be removed in a future version.\n",
            "Instructions for updating:\n",
            "Use tf.cast instead.\n",
            "Train on 20000 samples, validate on 5000 samples\n",
            "Epoch 1/10\n",
            "20000/20000 [==============================] - 30s 1ms/step - loss: 0.6556 - acc: 0.5989 - val_loss: 0.5177 - val_acc: 0.7868\n",
            "Epoch 2/10\n",
            "20000/20000 [==============================] - 26s 1ms/step - loss: 0.4339 - acc: 0.8124 - val_loss: 0.3863 - val_acc: 0.8382\n",
            "Epoch 3/10\n",
            "20000/20000 [==============================] - 27s 1ms/step - loss: 0.3270 - acc: 0.8685 - val_loss: 0.3376 - val_acc: 0.8596\n",
            "Epoch 4/10\n",
            "20000/20000 [==============================] - 27s 1ms/step - loss: 0.2646 - acc: 0.8972 - val_loss: 0.3975 - val_acc: 0.8344\n",
            "Epoch 5/10\n",
            "20000/20000 [==============================] - 26s 1ms/step - loss: 0.2161 - acc: 0.9174 - val_loss: 0.4219 - val_acc: 0.8598\n",
            "Epoch 6/10\n",
            "20000/20000 [==============================] - 26s 1ms/step - loss: 0.1679 - acc: 0.9388 - val_loss: 0.3531 - val_acc: 0.8704\n",
            "Epoch 7/10\n",
            "20000/20000 [==============================] - 27s 1ms/step - loss: 0.1550 - acc: 0.9426 - val_loss: 0.4841 - val_acc: 0.8116\n",
            "Epoch 8/10\n",
            "20000/20000 [==============================] - 26s 1ms/step - loss: 0.1205 - acc: 0.9565 - val_loss: 0.4617 - val_acc: 0.7980\n",
            "Epoch 9/10\n",
            "20000/20000 [==============================] - 27s 1ms/step - loss: 0.0818 - acc: 0.9725 - val_loss: 0.4834 - val_acc: 0.8172\n",
            "Epoch 10/10\n",
            "20000/20000 [==============================] - 27s 1ms/step - loss: 0.0589 - acc: 0.9819 - val_loss: 0.4415 - val_acc: 0.8622\n"
          ],
          "name": "stdout"
        }
      ]
    },
    {
      "cell_type": "code",
      "metadata": {
        "id": "WnnvTbimK5Gb",
        "colab_type": "code",
        "colab": {
          "base_uri": "https://localhost:8080/",
          "height": 545
        },
        "outputId": "4c4d8823-2436-450b-db03-b08bc9f938b9"
      },
      "source": [
        "'''\n",
        "绘制结果\n",
        "'''\n",
        "import matplotlib.pyplot as plt\n",
        "\n",
        "acc = history.history['acc']\n",
        "val_acc = history.history['val_acc']\n",
        "loss = history.history['loss']\n",
        "val_loss = history.history['val_loss']\n",
        "\n",
        "epochs = range(len(acc))\n",
        "\n",
        "plt.plot(epochs, acc, 'bo', label='Training acc')\n",
        "plt.plot(epochs, val_acc, 'b', label='Validation acc')\n",
        "plt.title('Training and validation accuracy')\n",
        "plt.legend()\n",
        "\n",
        "plt.figure()\n",
        "\n",
        "plt.plot(epochs, loss, 'bo', label='Training loss')\n",
        "plt.plot(epochs, val_loss, 'b', label='Validation loss')\n",
        "plt.title('Training and validation loss')\n",
        "plt.legend()\n",
        "\n",
        "plt.show()"
      ],
      "execution_count": 5,
      "outputs": [
        {
          "output_type": "display_data",
          "data": {
            "image/png": "[encoded data removed]",
            "text/plain": [
              "<Figure size 432x288 with 1 Axes>"
            ]
          },
          "metadata": {
            "tags": []
          }
        },
        {
          "output_type": "display_data",
          "data": {
            "image/png": "[encoded data removed]",
            "text/plain": [
              "<Figure size 432x288 with 1 Axes>"
            ]
          },
          "metadata": {
            "tags": []
          }
        }
      ]
    },
    {
      "cell_type": "markdown",
      "metadata": {
        "id": "LP5izrfsM6PO",
        "colab_type": "text"
      },
      "source": [
        "val的精度只有85%，甚至比简单Dense要差\n",
        "\n",
        "考虑：是不是因为maxlen只取了前500？没有把整个序列放进去；\n",
        "\n",
        "另外，SimpleRNN不适合处理文本序列"
      ]
    },
    {
      "cell_type": "code",
      "metadata": {
        "id": "S9rtpQUIMHZQ",
        "colab_type": "code",
        "colab": {
          "base_uri": "https://localhost:8080/",
          "height": 202
        },
        "outputId": "5bf54db7-577f-49c0-f4d2-6aee1461c3cf"
      },
      "source": [
        "'''\n",
        "使用Keras中的LSTM层\n",
        "'''\n",
        "from keras.layers import LSTM\n",
        "from keras.layers import Dense\n",
        "from keras.models import Sequential\n",
        "from keras.layers import Embedding, SimpleRNN\n",
        "\n",
        "model = Sequential()\n",
        "model.add(Embedding(max_features, 32))\n",
        "model.add(LSTM(32))\n",
        "model.add(Dense(1, activation='sigmoid'))\n",
        "\n",
        "model.compile(optimizer='rmsprop',\n",
        "              loss='binary_crossentropy',\n",
        "              metrics=['acc'])\n",
        "history = model.fit(input_train, y_train,\n",
        "                    epochs=5,\n",
        "                    batch_size=128,\n",
        "                    validation_split=0.2)"
      ],
      "execution_count": 7,
      "outputs": [
        {
          "output_type": "stream",
          "text": [
            "Train on 20000 samples, validate on 5000 samples\n",
            "Epoch 1/5\n",
            "20000/20000 [==============================] - 116s 6ms/step - loss: 0.5238 - acc: 0.7523 - val_loss: 0.3590 - val_acc: 0.8544\n",
            "Epoch 2/5\n",
            "20000/20000 [==============================] - 116s 6ms/step - loss: 0.3036 - acc: 0.8818 - val_loss: 0.3567 - val_acc: 0.8446\n",
            "Epoch 3/5\n",
            "20000/20000 [==============================] - 118s 6ms/step - loss: 0.2399 - acc: 0.9098 - val_loss: 0.3366 - val_acc: 0.8554\n",
            "Epoch 4/5\n",
            "20000/20000 [==============================] - 118s 6ms/step - loss: 0.2028 - acc: 0.9239 - val_loss: 0.3255 - val_acc: 0.8726\n",
            "Epoch 5/5\n",
            "20000/20000 [==============================] - 116s 6ms/step - loss: 0.1797 - acc: 0.9340 - val_loss: 0.2852 - val_acc: 0.8880\n"
          ],
          "name": "stdout"
        }
      ]
    },
    {
      "cell_type": "code",
      "metadata": {
        "id": "JFva8HrJUmVt",
        "colab_type": "code",
        "colab": {
          "base_uri": "https://localhost:8080/",
          "height": 545
        },
        "outputId": "4c6b7dc0-999b-42f3-f9d9-a8a39d248995"
      },
      "source": [
        "'''\n",
        "画图\n",
        "'''\n",
        "acc = history.history['acc']\n",
        "val_acc = history.history['val_acc']\n",
        "loss = history.history['loss']\n",
        "val_loss = history.history['val_loss']\n",
        "\n",
        "epochs = range(len(acc))\n",
        "\n",
        "plt.plot(epochs, acc, 'bo', label='Training acc')\n",
        "plt.plot(epochs, val_acc, 'b', label='Validation acc')\n",
        "plt.title('Training and validation accuracy')\n",
        "plt.legend()\n",
        "\n",
        "plt.figure()\n",
        "\n",
        "plt.plot(epochs, loss, 'bo', label='Training loss')\n",
        "plt.plot(epochs, val_loss, 'b', label='Validation loss')\n",
        "plt.title('Training and validation loss')\n",
        "plt.legend()\n",
        "\n",
        "plt.show()"
      ],
      "execution_count": 8,
      "outputs": [
        {
          "output_type": "display_data",
          "data": {
            "image/png": "[encoded data removed]",
            "text/plain": [
              "<Figure size 432x288 with 1 Axes>"
            ]
          },
          "metadata": {
            "tags": []
          }
        },
        {
          "output_type": "display_data",
          "data": {
            "image/png": "[encoded data removed]",
            "text/plain": [
              "<Figure size 432x288 with 1 Axes>"
            ]
          },
          "metadata": {
            "tags": []
          }
        }
      ]
    },
    {
      "cell_type": "code",
      "metadata": {
        "id": "nCTj5erxZhoX",
        "colab_type": "code",
        "colab": {}
      },
      "source": [
        ""
      ],
      "execution_count": 0,
      "outputs": []
    }
  ]
}