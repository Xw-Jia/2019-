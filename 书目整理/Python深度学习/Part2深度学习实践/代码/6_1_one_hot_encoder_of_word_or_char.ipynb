{
  "nbformat": 4,
  "nbformat_minor": 0,
  "metadata": {
    "colab": {
      "name": "6.1_one-hot-encoder-of-word-or-char.ipynb",
      "version": "0.3.2",
      "provenance": [],
      "include_colab_link": true
    },
    "kernelspec": {
      "name": "python3",
      "display_name": "Python 3"
    },
    "accelerator": "TPU"
  },
  "cells": [
    {
      "cell_type": "markdown",
      "metadata": {
        "id": "view-in-github",
        "colab_type": "text"
      },
      "source": [
        "<a href=\"https://colab.research.google.com/github/Xw-Jia/2019_SaveYourself_GetOffer/blob/master/%E4%B9%A6%E7%9B%AE%E6%95%B4%E7%90%86/Python%E6%B7%B1%E5%BA%A6%E5%AD%A6%E4%B9%A0/Part2%E6%B7%B1%E5%BA%A6%E5%AD%A6%E4%B9%A0%E5%AE%9E%E8%B7%B5/%E4%BB%A3%E7%A0%81/6_1_one_hot_encoder_of_word_or_char.ipynb\" target=\"_parent\"><img src=\"https://colab.research.google.com/assets/colab-badge.svg\" alt=\"Open In Colab\"/></a>"
      ]
    },
    {
      "cell_type": "code",
      "metadata": {
        "id": "Ftq7mXcKpdbq",
        "colab_type": "code",
        "colab": {
          "base_uri": "https://localhost:8080/",
          "height": 50
        },
        "outputId": "3bd6d7a9-167f-4c35-e965-903d47c12a61"
      },
      "source": [
        "import keras\n",
        "keras.__version__"
      ],
      "execution_count": 1,
      "outputs": [
        {
          "output_type": "stream",
          "text": [
            "Using TensorFlow backend.\n"
          ],
          "name": "stderr"
        },
        {
          "output_type": "execute_result",
          "data": {
            "text/plain": [
              "'2.2.4'"
            ]
          },
          "metadata": {
            "tags": []
          },
          "execution_count": 1
        }
      ]
    },
    {
      "cell_type": "code",
      "metadata": {
        "id": "jSGdhhebpoDl",
        "colab_type": "code",
        "colab": {}
      },
      "source": [
        "'''\n",
        "word级别one-hot编码\n",
        "'''\n",
        "import numpy as np\n",
        "\n",
        "# 初始数据; one entry per \"sample\"，每个样本是列表中的一个元素，是个句子，也可以是个文档\n",
        "# (in this toy example, a \"sample\" is just a sentence, but\n",
        "# it could be an entire document).\n",
        "samples = ['The cat sat on the mat.', 'The dog ate my homework.']\n",
        "\n",
        "# First, build an index of all tokens in the data.\n",
        "token_index = {}\n",
        "for sample in samples:\n",
        "    # We simply tokenize the samples via the `split` method.使用split方法，分词\n",
        "    # in real life, we would also strip punctuation and special characters//实际中，要去除标点和特殊字符\n",
        "    # from the samples.\n",
        "    for word in sample.split():\n",
        "        if word not in token_index:\n",
        "            # Assign a unique index to each unique word//为每个单词指定一个索引，但是，索引0没有指定单词\n",
        "            token_index[word] = len(token_index) + 1\n",
        "            # Note that we don't attribute index 0 to anything.\n",
        "\n",
        "# Next, we vectorize our samples.\n",
        "# We will only consider the first `max_length` words in each sample.对样本分词，只考虑前max_length个单词\n",
        "max_length = 10\n",
        "\n",
        "# This is where we store our results:\n",
        "results = np.zeros((len(samples), max_length, max(token_index.values()) + 1))\n",
        "for i, sample in enumerate(samples):\n",
        "    for j, word in list(enumerate(sample.split()))[:max_length]:\n",
        "        index = token_index.get(word)\n",
        "        results[i, j, index] = 1."
      ],
      "execution_count": 0,
      "outputs": []
    },
    {
      "cell_type": "code",
      "metadata": {
        "id": "NOvXInE_rtsa",
        "colab_type": "code",
        "colab": {}
      },
      "source": [
        "#char级别 one-hot编码\n",
        "import string\n",
        "\n",
        "samples = ['The cat sat on the mat.', 'The dog ate my homework.']\n",
        "characters = string.printable  # All printable ASCII characters.\n",
        "token_index = dict(zip(characters, range(1, len(characters) + 1)))\n",
        "\n",
        "max_length = 50\n",
        "results = np.zeros((len(samples), max_length, max(token_index.values()) + 1))\n",
        "for i, sample in enumerate(samples):\n",
        "    for j, character in enumerate(sample[:max_length]):\n",
        "        index = token_index.get(character)\n",
        "        results[i, j, index] = 1."
      ],
      "execution_count": 0,
      "outputs": []
    },
    {
      "cell_type": "code",
      "metadata": {
        "id": "RUQ7Az0zsIg2",
        "colab_type": "code",
        "colab": {
          "base_uri": "https://localhost:8080/",
          "height": 34
        },
        "outputId": "9fc2a95f-64ed-46bd-b761-2fe1a1c6e516"
      },
      "source": [
        "'''\n",
        "Keras内置函数，可以实现word或者char的one-hot\n",
        "'''\n",
        "\n",
        "# word级别one-hot\n",
        "from keras.preprocessing.text import Tokenizer\n",
        "\n",
        "samples = ['The cat sat on the mat.', 'The dog ate my homework.']\n",
        "\n",
        "# 创建一个分词器tokenizer，设置只考虑前1000个最常见的词\n",
        "tokenizer = Tokenizer(num_words=1000)\n",
        "# 构建单词索引\n",
        "tokenizer.fit_on_texts(samples)\n",
        "\n",
        "# 将字符串转成，整数index组成的list\n",
        "sequences = tokenizer.texts_to_sequences(samples)\n",
        "\n",
        "# You could also directly get the one-hot binary representations.\n",
        "# Note that other vectorization modes than one-hot encoding are supported!\n",
        "one_hot_results = tokenizer.texts_to_matrix(samples, mode='binary')\n",
        "\n",
        "# 找回单词索引\n",
        "word_index = tokenizer.word_index\n",
        "print('Found %s unique tokens.' % len(word_index))"
      ],
      "execution_count": 5,
      "outputs": [
        {
          "output_type": "stream",
          "text": [
            "Found 9 unique tokens.\n"
          ],
          "name": "stdout"
        }
      ]
    },
    {
      "cell_type": "markdown",
      "metadata": {
        "id": "j6qmf4jQt7sR",
        "colab_type": "text"
      },
      "source": [
        "one-hot编码的一种变体：\n",
        "> one-hot散列技巧（适用于词表中的token过多）--hashing trick,\n",
        "不再为每个单词显式分配一个index，并保存在一个字典中，而是将单词散列编码成固定长度的向量，优点在于：不再维护一个显式的单词索引，节省内存，\n",
        "\n",
        "> 缺点在于：可能出现散列冲突，hash collision，两个不同单词可能有相同的hash"
      ]
    },
    {
      "cell_type": "code",
      "metadata": {
        "id": "SibCAaYUtqP1",
        "colab_type": "code",
        "colab": {}
      },
      "source": [
        "'''\n",
        "使用hash one-hot  word level\n",
        "'''\n",
        "\n",
        "samples = ['The cat sat on the mat.', 'The dog ate my homework.']\n",
        "\n",
        "# 单词保存为长度1000的向量\n",
        "# 实际单词数量远大于1000，容易出现hash问题\n",
        "dimensionality = 1000\n",
        "max_length = 10\n",
        "\n",
        "results = np.zeros((len(samples), max_length, dimensionality))\n",
        "for i, sample in enumerate(samples):\n",
        "    for j, word in list(enumerate(sample.split()))[:max_length]:\n",
        "        # 单词hash为0-1000的一个随机整数索引\n",
        "        index = abs(hash(word)) % dimensionality\n",
        "        results[i, j, index] = 1."
      ],
      "execution_count": 0,
      "outputs": []
    }
  ]
}