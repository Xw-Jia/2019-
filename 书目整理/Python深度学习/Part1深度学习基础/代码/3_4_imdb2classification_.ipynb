{
  "nbformat": 4,
  "nbformat_minor": 0,
  "metadata": {
    "colab": {
      "name": "3.4_imdb2classification_.ipynb",
      "version": "0.3.2",
      "provenance": [],
      "collapsed_sections": []
    },
    "kernelspec": {
      "name": "python3",
      "display_name": "Python 3"
    },
    "accelerator": "GPU"
  },
  "cells": [
    {
      "metadata": {
        "id": "ZbBpyQ4I7UQm",
        "colab_type": "code",
        "colab": {
          "base_uri": "https://localhost:8080/",
          "height": 35
        },
        "outputId": "2a82a91f-280e-4546-b390-0e567857e070"
      },
      "cell_type": "code",
      "source": [
        "from keras.datasets import imdb\n",
        "(train_data,train_labels), (test_data, test_labels) = imdb.load_data(num_words=10000)"
      ],
      "execution_count": 1,
      "outputs": [
        {
          "output_type": "stream",
          "text": [
            "Using TensorFlow backend.\n"
          ],
          "name": "stderr"
        }
      ]
    },
    {
      "metadata": {
        "id": "A14XzieA9mdX",
        "colab_type": "code",
        "colab": {
          "base_uri": "https://localhost:8080/",
          "height": 35
        },
        "outputId": "85769c2c-1e8d-4be5-9f5f-5730b104e62c"
      },
      "cell_type": "code",
      "source": [
        "import keras\n",
        "keras.__version__"
      ],
      "execution_count": 2,
      "outputs": [
        {
          "output_type": "execute_result",
          "data": {
            "text/plain": [
              "'2.2.4'"
            ]
          },
          "metadata": {
            "tags": []
          },
          "execution_count": 2
        }
      ]
    },
    {
      "metadata": {
        "id": "ibl6PbVH-gAK",
        "colab_type": "code",
        "colab": {
          "base_uri": "https://localhost:8080/",
          "height": 35
        },
        "outputId": "69f35977-d35f-4d9c-ac53-63eadd16ae7a"
      },
      "cell_type": "code",
      "source": [
        "import tensorflow as tf\n",
        "tf.__version__"
      ],
      "execution_count": 3,
      "outputs": [
        {
          "output_type": "execute_result",
          "data": {
            "text/plain": [
              "'1.8.0'"
            ]
          },
          "metadata": {
            "tags": []
          },
          "execution_count": 3
        }
      ]
    },
    {
      "metadata": {
        "id": "8Oci55zo-lf8",
        "colab_type": "code",
        "colab": {}
      },
      "cell_type": "code",
      "source": [
        "train_data[0]"
      ],
      "execution_count": 0,
      "outputs": []
    },
    {
      "metadata": {
        "id": "PDQ2_pZy-vtu",
        "colab_type": "code",
        "colab": {
          "base_uri": "https://localhost:8080/",
          "height": 35
        },
        "outputId": "a0585a7d-61eb-4f00-e40e-6feb5c9aea01"
      },
      "cell_type": "code",
      "source": [
        "train_labels[0]"
      ],
      "execution_count": 5,
      "outputs": [
        {
          "output_type": "execute_result",
          "data": {
            "text/plain": [
              "1"
            ]
          },
          "metadata": {
            "tags": []
          },
          "execution_count": 5
        }
      ]
    },
    {
      "metadata": {
        "id": "BpfTJdrp-0h4",
        "colab_type": "code",
        "colab": {
          "base_uri": "https://localhost:8080/",
          "height": 35
        },
        "outputId": "7d916cef-61dd-4c31-cd1c-de45ff33d888"
      },
      "cell_type": "code",
      "source": [
        "max(max(sequence) for sequence in train_data)"
      ],
      "execution_count": 8,
      "outputs": [
        {
          "output_type": "execute_result",
          "data": {
            "text/plain": [
              "9999"
            ]
          },
          "metadata": {
            "tags": []
          },
          "execution_count": 8
        }
      ]
    },
    {
      "metadata": {
        "id": "KujVrGyG_EtP",
        "colab_type": "code",
        "colab": {
          "base_uri": "https://localhost:8080/",
          "height": 55
        },
        "outputId": "fed86dde-afe8-4c68-dc3c-0c183743be0f"
      },
      "cell_type": "code",
      "source": [
        "# 将某条评论解码为英文单词\n",
        "#word_index是将单词-->索引 的字典\n",
        "word_index = imdb.get_word_index()\n",
        "reverse_word_index = dict([\n",
        "    (value,key) for (key,value) in word_index.items()\n",
        "])\n",
        "decoded_review = ' '.join([\n",
        "    reverse_word_index.get(i-3, '?') for i in train_data[0]\n",
        "])\n",
        "# 索引-3： 0：'padding'; 1:序列开始； 2:'unknown'\n",
        "print(decoded_review)"
      ],
      "execution_count": 10,
      "outputs": [
        {
          "output_type": "stream",
          "text": [
            "? this film was just brilliant casting location scenery story direction everyone's really suited the part they played and you could just imagine being there robert ? is an amazing actor and now the same being director ? father came from the same scottish island as myself so i loved the fact there was a real connection with this film the witty remarks throughout the film were great it was just brilliant so much that i bought the film as soon as it was released for ? and would recommend it to everyone to watch and the fly fishing was amazing really cried at the end it was so sad and you know what they say if you cry at a film it must have been good and this definitely was also ? to the two little boy's that played the ? of norman and paul they were just brilliant children are often left out of the ? list i think because the stars that play them all grown up are such a big profile for the whole film but these children are amazing and should be praised for what they have done don't you think the whole story was so lovely because it was true and was someone's life after all that was shared with us all\n"
          ],
          "name": "stdout"
        }
      ]
    },
    {
      "metadata": {
        "id": "lJFpO83RBqsy",
        "colab_type": "text"
      },
      "cell_type": "markdown",
      "source": [
        "不能直接把整数list输入NN，必须先转成Tensor\n",
        "\n",
        "转换方法：\n",
        "\n",
        "1. 填充list，使它具有相同长度 ，然后，list转化成(samples, word_indices)的整数tensor，然后，NN第一层用Embedding层，处理这种tensor\n",
        "\n",
        "2. 对list进行one-hot 编码，转成0，1向量，然后NN第一层可以使用Dense层"
      ]
    },
    {
      "metadata": {
        "id": "vzK1DVedAcQt",
        "colab_type": "code",
        "colab": {}
      },
      "cell_type": "code",
      "source": [
        "'''\n",
        "采用第二种one-hot方法\n",
        "将整数list编码成二进制矩阵\n",
        "'''\n",
        "\n",
        "import numpy as np\n",
        "\n",
        "'''\n",
        "创建形状为(len(sequences),dimension)的0矩阵\n",
        "'''\n",
        "def vectorize_sequences(sequences, dimension=10000):\n",
        "    results = np.zeros((len(sequences), dimension))\n",
        "    for i, sequence in enumerate(sequences):\n",
        "        results[i,sequence] =1.#将results[i]的指定索引设为1\n",
        "    return results\n",
        "\n",
        "x_train = vectorize_sequences(train_data)\n",
        "x_test = vectorize_sequences(test_data)"
      ],
      "execution_count": 0,
      "outputs": []
    },
    {
      "metadata": {
        "id": "Jfk6mnqjFj7Q",
        "colab_type": "code",
        "colab": {
          "base_uri": "https://localhost:8080/",
          "height": 35
        },
        "outputId": "6b1d16a6-54c5-42fa-c30e-00c6bbc887a9"
      },
      "cell_type": "code",
      "source": [
        "x_train[0]"
      ],
      "execution_count": 14,
      "outputs": [
        {
          "output_type": "execute_result",
          "data": {
            "text/plain": [
              "array([ 0.,  1.,  1., ...,  0.,  0.,  0.])"
            ]
          },
          "metadata": {
            "tags": []
          },
          "execution_count": 14
        }
      ]
    },
    {
      "metadata": {
        "id": "nZ1CJJcVHDQ6",
        "colab_type": "code",
        "colab": {}
      },
      "cell_type": "code",
      "source": [
        "#将标签向量化\n",
        "y_train = np.asarray(train_labels).astype('float32')\n",
        "y_test = np.asarray(test_labels).astype('float32')"
      ],
      "execution_count": 0,
      "outputs": []
    },
    {
      "metadata": {
        "id": "o3NX_ctZHhIF",
        "colab_type": "code",
        "colab": {}
      },
      "cell_type": "code",
      "source": [
        "'''\n",
        "构建网络\n",
        "\n",
        "输入是array，输出是标量，可以使用带relu激活的Dense层\n",
        "'''\n",
        "\n",
        "#模型定义\n",
        "from keras import models\n",
        "from keras import layers\n",
        "\n",
        "model = models.Sequential()\n",
        "model.add(layers.Dense(16, activation='relu', input_shape=(10000,)))\n",
        "model.add(layers.Dense(16, activation='relu'))\n",
        "model.add(layers.Dense(1, activation='sigmoid'))"
      ],
      "execution_count": 0,
      "outputs": []
    },
    {
      "metadata": {
        "id": "mFXmM4wDJz1u",
        "colab_type": "text"
      },
      "cell_type": "markdown",
      "source": [
        "为什么使用激活函数？\n",
        "1. 如果没有非线性，假设空间就是所有的线性变换\n",
        "2. 但是这样的假设空间就很有限，不嫩利用多个表示层的优势，多层仍是线性仿射变换，不会扩展假设空间\n",
        "3. 机器学习就是要在假设空间里面进行训练迭代，激活函数可以充分扩展假设空间，充分利用多层表示的优势"
      ]
    },
    {
      "metadata": {
        "id": "t4_5mDuDJYTE",
        "colab_type": "code",
        "colab": {}
      },
      "cell_type": "code",
      "source": [
        "'''\n",
        "模型编译\n",
        "'''\n",
        "model.compile(optimizer='rmsprop',\n",
        "             loss='binary_crossentropy',\n",
        "             metrics=['accuracy']\n",
        "             )\n",
        "'''\n",
        "当需要配置自定义的优化器参数，或者自定义传入的损失函数和指标函数时，\n",
        "可以向optimizer参数传入一个优化器类的实例来实现，\n",
        "或者，loss和metrics参数传入函数对象\n",
        "'''\n",
        "from keras import optimizers\n",
        "from keras import losses\n",
        "from keras import metrics\n",
        "\n",
        "model.compile(optimizer=optimizers.RMSprop(lr=0.001),\n",
        "             loss=losses.binary_crossentropy,\n",
        "              metrics=[metrics.binary_accuracy]\n",
        "             )\n"
      ],
      "execution_count": 0,
      "outputs": []
    },
    {
      "metadata": {
        "id": "6q3fBrQVML84",
        "colab_type": "code",
        "colab": {}
      },
      "cell_type": "code",
      "source": [
        "'''\n",
        "留出验证集val\n",
        "'''\n",
        "x_val = x_train[:10000]\n",
        "partial_x_train = x_train[10000:]\n",
        "\n",
        "y_val = y_train[:10000]\n",
        "partial_y_train = y_train[10000:]"
      ],
      "execution_count": 0,
      "outputs": []
    },
    {
      "metadata": {
        "id": "BCKF0sxPMpJG",
        "colab_type": "code",
        "colab": {
          "base_uri": "https://localhost:8080/",
          "height": 1835
        },
        "outputId": "82e0b85a-bfa5-42db-809f-8c028c8da9c3"
      },
      "cell_type": "code",
      "source": [
        "'''\n",
        "训练模型\n",
        "'''\n",
        "history = model.fit(partial_x_train,\n",
        "                   partial_y_train,\n",
        "                   epochs=50,\n",
        "                   batch_size=512,\n",
        "                   validation_data=(x_val, y_val)\n",
        "                   )"
      ],
      "execution_count": 20,
      "outputs": [
        {
          "output_type": "stream",
          "text": [
            "Train on 15000 samples, validate on 10000 samples\n",
            "Epoch 1/50\n",
            "15000/15000 [==============================] - 2s 138us/step - loss: 0.5048 - binary_accuracy: 0.7872 - val_loss: 0.3774 - val_binary_accuracy: 0.8704\n",
            "Epoch 2/50\n",
            "15000/15000 [==============================] - 2s 124us/step - loss: 0.2991 - binary_accuracy: 0.9048 - val_loss: 0.3001 - val_binary_accuracy: 0.8898\n",
            "Epoch 3/50\n",
            "15000/15000 [==============================] - 2s 124us/step - loss: 0.2173 - binary_accuracy: 0.9283 - val_loss: 0.3082 - val_binary_accuracy: 0.8716\n",
            "Epoch 4/50\n",
            "15000/15000 [==============================] - 2s 121us/step - loss: 0.1747 - binary_accuracy: 0.9440 - val_loss: 0.2826 - val_binary_accuracy: 0.8843\n",
            "Epoch 5/50\n",
            "15000/15000 [==============================] - 2s 121us/step - loss: 0.1422 - binary_accuracy: 0.9539 - val_loss: 0.2855 - val_binary_accuracy: 0.8855\n",
            "Epoch 6/50\n",
            "15000/15000 [==============================] - 2s 121us/step - loss: 0.1148 - binary_accuracy: 0.9652 - val_loss: 0.3134 - val_binary_accuracy: 0.8778\n",
            "Epoch 7/50\n",
            "15000/15000 [==============================] - 2s 121us/step - loss: 0.0977 - binary_accuracy: 0.9709 - val_loss: 0.3132 - val_binary_accuracy: 0.8840\n",
            "Epoch 8/50\n",
            "15000/15000 [==============================] - 2s 122us/step - loss: 0.0806 - binary_accuracy: 0.9763 - val_loss: 0.3861 - val_binary_accuracy: 0.8653\n",
            "Epoch 9/50\n",
            "15000/15000 [==============================] - 2s 123us/step - loss: 0.0660 - binary_accuracy: 0.9821 - val_loss: 0.3641 - val_binary_accuracy: 0.8777\n",
            "Epoch 10/50\n",
            "15000/15000 [==============================] - 2s 121us/step - loss: 0.0561 - binary_accuracy: 0.9849 - val_loss: 0.3853 - val_binary_accuracy: 0.8777\n",
            "Epoch 11/50\n",
            "15000/15000 [==============================] - 2s 121us/step - loss: 0.0436 - binary_accuracy: 0.9904 - val_loss: 0.4174 - val_binary_accuracy: 0.8768\n",
            "Epoch 12/50\n",
            "15000/15000 [==============================] - 2s 121us/step - loss: 0.0385 - binary_accuracy: 0.9914 - val_loss: 0.4551 - val_binary_accuracy: 0.8698\n",
            "Epoch 13/50\n",
            "15000/15000 [==============================] - 2s 120us/step - loss: 0.0300 - binary_accuracy: 0.9930 - val_loss: 0.4696 - val_binary_accuracy: 0.8730\n",
            "Epoch 14/50\n",
            "15000/15000 [==============================] - 2s 121us/step - loss: 0.0252 - binary_accuracy: 0.9945 - val_loss: 0.5033 - val_binary_accuracy: 0.8724\n",
            "Epoch 15/50\n",
            "15000/15000 [==============================] - 2s 122us/step - loss: 0.0175 - binary_accuracy: 0.9984 - val_loss: 0.5371 - val_binary_accuracy: 0.8694\n",
            "Epoch 16/50\n",
            "15000/15000 [==============================] - 2s 120us/step - loss: 0.0157 - binary_accuracy: 0.9977 - val_loss: 0.5786 - val_binary_accuracy: 0.8686\n",
            "Epoch 17/50\n",
            "15000/15000 [==============================] - 2s 123us/step - loss: 0.0107 - binary_accuracy: 0.9991 - val_loss: 0.6285 - val_binary_accuracy: 0.8639\n",
            "Epoch 18/50\n",
            "15000/15000 [==============================] - 2s 127us/step - loss: 0.0124 - binary_accuracy: 0.9972 - val_loss: 0.6430 - val_binary_accuracy: 0.8672\n",
            "Epoch 19/50\n",
            "15000/15000 [==============================] - 2s 128us/step - loss: 0.0054 - binary_accuracy: 0.9998 - val_loss: 0.7272 - val_binary_accuracy: 0.8556\n",
            "Epoch 20/50\n",
            "15000/15000 [==============================] - 2s 129us/step - loss: 0.0097 - binary_accuracy: 0.9983 - val_loss: 0.7001 - val_binary_accuracy: 0.8657\n",
            "Epoch 21/50\n",
            "15000/15000 [==============================] - 2s 128us/step - loss: 0.0032 - binary_accuracy: 0.9998 - val_loss: 0.7256 - val_binary_accuracy: 0.8655\n",
            "Epoch 22/50\n",
            "15000/15000 [==============================] - 2s 129us/step - loss: 0.0063 - binary_accuracy: 0.9987 - val_loss: 0.7560 - val_binary_accuracy: 0.8661\n",
            "Epoch 23/50\n",
            "15000/15000 [==============================] - 2s 123us/step - loss: 0.0020 - binary_accuracy: 0.9999 - val_loss: 0.7877 - val_binary_accuracy: 0.8633\n",
            "Epoch 24/50\n",
            "15000/15000 [==============================] - 2s 123us/step - loss: 0.0058 - binary_accuracy: 0.9987 - val_loss: 0.8200 - val_binary_accuracy: 0.8638\n",
            "Epoch 25/50\n",
            "15000/15000 [==============================] - 2s 122us/step - loss: 0.0012 - binary_accuracy: 0.9999 - val_loss: 0.8376 - val_binary_accuracy: 0.8646\n",
            "Epoch 26/50\n",
            "15000/15000 [==============================] - 2s 123us/step - loss: 0.0022 - binary_accuracy: 0.9997 - val_loss: 0.9638 - val_binary_accuracy: 0.8514\n",
            "Epoch 27/50\n",
            "15000/15000 [==============================] - 2s 122us/step - loss: 0.0011 - binary_accuracy: 0.9999 - val_loss: 0.8954 - val_binary_accuracy: 0.8618\n",
            "Epoch 28/50\n",
            "15000/15000 [==============================] - 2s 122us/step - loss: 6.5496e-04 - binary_accuracy: 0.9999 - val_loss: 0.9257 - val_binary_accuracy: 0.8609\n",
            "Epoch 29/50\n",
            "15000/15000 [==============================] - 2s 123us/step - loss: 0.0039 - binary_accuracy: 0.9987 - val_loss: 0.9541 - val_binary_accuracy: 0.8612\n",
            "Epoch 30/50\n",
            "15000/15000 [==============================] - 2s 122us/step - loss: 3.5142e-04 - binary_accuracy: 1.0000 - val_loss: 0.9701 - val_binary_accuracy: 0.8608\n",
            "Epoch 31/50\n",
            "15000/15000 [==============================] - 2s 122us/step - loss: 2.9096e-04 - binary_accuracy: 1.0000 - val_loss: 1.0004 - val_binary_accuracy: 0.8581\n",
            "Epoch 32/50\n",
            "15000/15000 [==============================] - 2s 122us/step - loss: 0.0018 - binary_accuracy: 0.9995 - val_loss: 1.0309 - val_binary_accuracy: 0.8592\n",
            "Epoch 33/50\n",
            "15000/15000 [==============================] - 2s 121us/step - loss: 1.7562e-04 - binary_accuracy: 1.0000 - val_loss: 1.0420 - val_binary_accuracy: 0.8587\n",
            "Epoch 34/50\n",
            "15000/15000 [==============================] - 2s 120us/step - loss: 1.4371e-04 - binary_accuracy: 1.0000 - val_loss: 1.0674 - val_binary_accuracy: 0.8581\n",
            "Epoch 35/50\n",
            "15000/15000 [==============================] - 2s 122us/step - loss: 5.4097e-04 - binary_accuracy: 0.9999 - val_loss: 1.1614 - val_binary_accuracy: 0.8544\n",
            "Epoch 36/50\n",
            "15000/15000 [==============================] - 2s 120us/step - loss: 1.4639e-04 - binary_accuracy: 1.0000 - val_loss: 1.1263 - val_binary_accuracy: 0.8565\n",
            "Epoch 37/50\n",
            "15000/15000 [==============================] - 2s 120us/step - loss: 7.0625e-05 - binary_accuracy: 1.0000 - val_loss: 1.1398 - val_binary_accuracy: 0.8558\n",
            "Epoch 38/50\n",
            "15000/15000 [==============================] - 2s 122us/step - loss: 5.3069e-05 - binary_accuracy: 1.0000 - val_loss: 1.1691 - val_binary_accuracy: 0.8558\n",
            "Epoch 39/50\n",
            "15000/15000 [==============================] - 2s 121us/step - loss: 0.0030 - binary_accuracy: 0.9993 - val_loss: 1.1930 - val_binary_accuracy: 0.8554\n",
            "Epoch 40/50\n",
            "15000/15000 [==============================] - 2s 122us/step - loss: 3.3364e-05 - binary_accuracy: 1.0000 - val_loss: 1.2006 - val_binary_accuracy: 0.8548\n",
            "Epoch 41/50\n",
            "15000/15000 [==============================] - 2s 119us/step - loss: 2.6749e-05 - binary_accuracy: 1.0000 - val_loss: 1.2094 - val_binary_accuracy: 0.8539\n",
            "Epoch 42/50\n",
            "15000/15000 [==============================] - 2s 120us/step - loss: 2.2600e-05 - binary_accuracy: 1.0000 - val_loss: 1.2256 - val_binary_accuracy: 0.8541\n",
            "Epoch 43/50\n",
            "15000/15000 [==============================] - 2s 119us/step - loss: 2.0172e-04 - binary_accuracy: 0.9999 - val_loss: 1.3158 - val_binary_accuracy: 0.8518\n",
            "Epoch 44/50\n",
            "15000/15000 [==============================] - 2s 121us/step - loss: 2.2771e-05 - binary_accuracy: 1.0000 - val_loss: 1.2664 - val_binary_accuracy: 0.8543\n",
            "Epoch 45/50\n",
            "15000/15000 [==============================] - 2s 119us/step - loss: 1.2780e-05 - binary_accuracy: 1.0000 - val_loss: 1.2707 - val_binary_accuracy: 0.8555\n",
            "Epoch 46/50\n",
            "15000/15000 [==============================] - 2s 118us/step - loss: 1.0439e-05 - binary_accuracy: 1.0000 - val_loss: 1.2797 - val_binary_accuracy: 0.8543\n",
            "Epoch 47/50\n",
            "15000/15000 [==============================] - 2s 118us/step - loss: 8.3803e-06 - binary_accuracy: 1.0000 - val_loss: 1.3012 - val_binary_accuracy: 0.8535\n",
            "Epoch 48/50\n",
            "15000/15000 [==============================] - 2s 118us/step - loss: 0.0024 - binary_accuracy: 0.9994 - val_loss: 1.3298 - val_binary_accuracy: 0.8539\n",
            "Epoch 49/50\n",
            "15000/15000 [==============================] - 2s 120us/step - loss: 4.2653e-06 - binary_accuracy: 1.0000 - val_loss: 1.3307 - val_binary_accuracy: 0.8546\n",
            "Epoch 50/50\n",
            "15000/15000 [==============================] - 2s 122us/step - loss: 3.9409e-06 - binary_accuracy: 1.0000 - val_loss: 1.3335 - val_binary_accuracy: 0.8543\n"
          ],
          "name": "stdout"
        }
      ]
    },
    {
      "metadata": {
        "id": "T8qzU9qENGvu",
        "colab_type": "code",
        "colab": {
          "base_uri": "https://localhost:8080/",
          "height": 35
        },
        "outputId": "4cabeec9-912e-455d-eef1-91093f2e78be"
      },
      "cell_type": "code",
      "source": [
        "'''\n",
        "history对象有一个history成员，它是一个字典，包含有训练过程中的所有数据\n",
        "'''\n",
        "history_dict = history.history\n",
        "history_dict.keys()"
      ],
      "execution_count": 21,
      "outputs": [
        {
          "output_type": "execute_result",
          "data": {
            "text/plain": [
              "dict_keys(['val_loss', 'val_binary_accuracy', 'loss', 'binary_accuracy'])"
            ]
          },
          "metadata": {
            "tags": []
          },
          "execution_count": 21
        }
      ]
    },
    {
      "metadata": {
        "id": "bWhPS-fGN7Nz",
        "colab_type": "code",
        "colab": {
          "base_uri": "https://localhost:8080/",
          "height": 295
        },
        "outputId": "3bb6ada9-a454-4634-f8e3-db1e2143743e"
      },
      "cell_type": "code",
      "source": [
        "'''\n",
        "绘制 训练损失，和验证损失\n",
        "'''\n",
        "import matplotlib.pyplot as plt\n",
        "\n",
        "history_dict = history.history\n",
        "loss_values = history_dict['loss']\n",
        "val_loss_values = history_dict['val_loss']\n",
        "\n",
        "epochs = range(1, len(loss_values)+1)\n",
        "\n",
        "plt.plot(epochs, loss_values, 'bo', label='Training loss')\n",
        "plt.plot(epochs, val_loss_values, 'r', label='Validation loss')\n",
        "plt.title('Training and validation loss')\n",
        "plt.xlabel('Epochs')\n",
        "plt.ylabel('Loss')\n",
        "plt.legend()\n",
        "\n",
        "plt.show()"
      ],
      "execution_count": 23,
      "outputs": [
        {
          "output_type": "display_data",
          "data": {
            "image/png": "[encoded data removed]",
            "text/plain": [
              "<Figure size 432x288 with 1 Axes>"
            ]
          },
          "metadata": {
            "tags": []
          }
        }
      ]
    },
    {
      "metadata": {
        "id": "lxzhLaoHPVrw",
        "colab_type": "code",
        "colab": {
          "base_uri": "https://localhost:8080/",
          "height": 295
        },
        "outputId": "ab100acf-463c-4065-903e-335648001574"
      },
      "cell_type": "code",
      "source": [
        "'''\n",
        "绘制 训练精度 和 验证精度\n",
        "'''\n",
        "plt.clf()  #清空图像\n",
        "acc = history_dict['binary_accuracy']\n",
        "val_acc = history_dict['val_binary_accuracy']\n",
        "\n",
        "epochs = range(1, len(loss_values)+1)\n",
        "\n",
        "plt.plot(epochs, acc, 'bo', label='Training acc')\n",
        "plt.plot(epochs, val_acc, 'r', label='Validation acc')\n",
        "plt.title('Training and validation accuracy')\n",
        "plt.xlabel('Epochs')\n",
        "plt.ylabel('Accuracy')\n",
        "plt.legend()\n",
        "\n",
        "plt.show()"
      ],
      "execution_count": 24,
      "outputs": [
        {
          "output_type": "display_data",
          "data": {
            "image/png": "[encoded data removed]",
            "text/plain": [
              "<Figure size 432x288 with 1 Axes>"
            ]
          },
          "metadata": {
            "tags": []
          }
        }
      ]
    },
    {
      "metadata": {
        "id": "fLoLnxD4QkL9",
        "colab_type": "text"
      },
      "cell_type": "markdown",
      "source": [
        "验证集的损失和精度在第四轮左右达到最优，所以，已经出现了**过拟合**\n",
        "\n",
        "下面，从头开始训练一个模型，使他在第四轮停止，然后在测试集测试"
      ]
    },
    {
      "metadata": {
        "id": "vos25kuSQWTL",
        "colab_type": "code",
        "colab": {
          "base_uri": "https://localhost:8080/",
          "height": 179
        },
        "outputId": "8680d37d-f7da-432f-94ff-ce47bc935455"
      },
      "cell_type": "code",
      "source": [
        "model = models.Sequential()\n",
        "model.add(layers.Dense(16, activation='relu', input_shape=(10000,)))\n",
        "model.add(layers.Dense(16, activation='relu'))\n",
        "model.add(layers.Dense(1, activation='sigmoid'))\n",
        "\n",
        "model.compile(optimizer=optimizers.RMSprop(lr=0.001),\n",
        "             loss=losses.binary_crossentropy,\n",
        "              metrics=[metrics.binary_accuracy]\n",
        "             )\n",
        "\n",
        "history = model.fit(x_train,\n",
        "                   y_train,\n",
        "                   epochs=4,\n",
        "                   batch_size=512,\n",
        "                   )\n",
        "\n",
        "results = model.evaluate(x_test, y_test)"
      ],
      "execution_count": 27,
      "outputs": [
        {
          "output_type": "stream",
          "text": [
            "Epoch 1/4\n",
            "25000/25000 [==============================] - 2s 91us/step - loss: 0.4686 - binary_accuracy: 0.8219\n",
            "Epoch 2/4\n",
            "25000/25000 [==============================] - 2s 86us/step - loss: 0.2708 - binary_accuracy: 0.9075\n",
            "Epoch 3/4\n",
            "25000/25000 [==============================] - 2s 87us/step - loss: 0.2078 - binary_accuracy: 0.9258\n",
            "Epoch 4/4\n",
            "25000/25000 [==============================] - 2s 87us/step - loss: 0.1717 - binary_accuracy: 0.9400\n",
            "25000/25000 [==============================] - 2s 61us/step\n"
          ],
          "name": "stdout"
        }
      ]
    },
    {
      "metadata": {
        "id": "7TLnmmAbUVEn",
        "colab_type": "code",
        "colab": {
          "base_uri": "https://localhost:8080/",
          "height": 35
        },
        "outputId": "f20c8ed2-dcf8-4b65-c86f-dbd0250ac017"
      },
      "cell_type": "code",
      "source": [
        "results"
      ],
      "execution_count": 28,
      "outputs": [
        {
          "output_type": "execute_result",
          "data": {
            "text/plain": [
              "[0.28785432773590086, 0.88456000000000001]"
            ]
          },
          "metadata": {
            "tags": []
          },
          "execution_count": 28
        }
      ]
    },
    {
      "metadata": {
        "id": "xwtJ1bb_UrCS",
        "colab_type": "code",
        "colab": {
          "base_uri": "https://localhost:8080/",
          "height": 143
        },
        "outputId": "e46d607b-5913-45fb-a8bc-14653f9520d0"
      },
      "cell_type": "code",
      "source": [
        "'''\n",
        "训练好之后，用于预测\n",
        "使用predict犯法得到的是为正面的可能性的大小\n",
        "'''\n",
        "model.predict(x_test)"
      ],
      "execution_count": 29,
      "outputs": [
        {
          "output_type": "execute_result",
          "data": {
            "text/plain": [
              "array([[ 0.23300742],\n",
              "       [ 0.99962866],\n",
              "       [ 0.89790207],\n",
              "       ..., \n",
              "       [ 0.15598357],\n",
              "       [ 0.08122449],\n",
              "       [ 0.61522961]], dtype=float32)"
            ]
          },
          "metadata": {
            "tags": []
          },
          "execution_count": 29
        }
      ]
    },
    {
      "metadata": {
        "id": "O6ZaFqkpU-sP",
        "colab_type": "code",
        "colab": {}
      },
      "cell_type": "code",
      "source": [
        ""
      ],
      "execution_count": 0,
      "outputs": []
    }
  ]
}